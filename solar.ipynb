{
 "cells": [
  {
   "cell_type": "code",
   "execution_count": 1,
   "metadata": {
    "collapsed": true
   },
   "outputs": [],
   "source": [
    "import numpy as np\n",
    "from scipy.stats import truncnorm, norm, binom, t\n",
    "import matplotlib.pyplot as plt\n",
    "import random\n",
    "import math"
   ]
  },
  {
   "cell_type": "code",
   "execution_count": 2,
   "metadata": {
    "collapsed": true
   },
   "outputs": [],
   "source": [
    "cutoff = 0.95 # The European norm for the required accuracy of the machine"
   ]
  },
  {
   "cell_type": "markdown",
   "metadata": {},
   "source": [
    "# Classes"
   ]
  },
  {
   "cell_type": "code",
   "execution_count": 3,
   "metadata": {
    "collapsed": true
   },
   "outputs": [],
   "source": [
    "class Wafer:\n",
    "    pass"
   ]
  },
  {
   "cell_type": "code",
   "execution_count": 4,
   "metadata": {
    "collapsed": true
   },
   "outputs": [],
   "source": [
    "class SolarCell:\n",
    "    def __init__(self, working):\n",
    "        self.working = working"
   ]
  },
  {
   "cell_type": "code",
   "execution_count": 188,
   "metadata": {
    "collapsed": true
   },
   "outputs": [],
   "source": [
    "class Machine:\n",
    "    runtime = 0  #In Minutes\n",
    "    costs = 0\n",
    "    \n",
    "    def __init__(self, p):  #Constructor\n",
    "        \"\"\"Make machine with probability p of turning a wafer into a working cell.\"\"\"\n",
    "        self.p = p\n",
    "    \n",
    "    def deposit(self, wafer):\n",
    "        \"\"\"Deposit a Wafer, returns a SolarCell\"\"\"\n",
    "        self.runtime += 9    #9 minutes per deposition per wafer\n",
    "        self.costs += 2 + 87/35  #It costs €2 to do a deposition. Wafers have a base cost of €87, but can be re-used 35 times\n",
    "        working = random.random() < self.p \n",
    "        \n",
    "        return SolarCell(working)\n",
    "    \n",
    "    def diagnosis(self, cell):\n",
    "        \"\"\"Diagnose a SolarCell, returns whether the cell works\"\"\"\n",
    "        self.runtime += 2 if cell.working else 3  # Diagnosis costs 2 minutes if the created cell works, 3 minutes otherwise\n",
    "        return cell.working\n",
    "    \n",
    "    def test_basic(self, n):\n",
    "        \"\"\"Test the machine n times and return the ratio of working cells\"\"\"\n",
    "        wafers = n * [Wafer()] # Create list of n Wafer() objects\n",
    "        cells = list(map(self.deposit, wafers)) # Deposit all wafers\n",
    "        working_cells = list(filter(self.diagnosis, cells)) # Make list of working cells\n",
    "        return len(working_cells)/len(cells) # Determine ratio of the amount of working cells and total cells \n",
    "    \n",
    "    def get_stats(self):\n",
    "        \"\"\"Pretty print the status of machine.\"\"\"\n",
    "        days = self.runtime // (24 * 60)\n",
    "        hours = (self.runtime % (24 * 60)) // 60\n",
    "        minutes = (self.runtime % (24 * 60)) % 60\n",
    "        rcosts = round(self.costs, 2)\n",
    "        \n",
    "        print(\"Actual accuracy of machine:\", self.p)\n",
    "        print(\"It takes\", days, \"day(s),\", hours, \"hour(s) and\", minutes, \"minute(s) to test.\")\n",
    "        print(\"The costs associated with this test method is €\" + str(rcosts))\n",
    "        \n",
    "    def reset(self):\n",
    "        \"\"\"Reset the machine.\"\"\"\n",
    "        self.runtime = 0\n",
    "        self.costs = 0\n",
    "        \n",
    "    def plot_pmf(self, n):\n",
    "        \"\"\"Plot the probability of each estimation of p resulting from n tests.\"\"\"\n",
    "        fig, ax = plt.subplots(1, 1)\n",
    "        x = np.arange(binom.ppf(0.001, n, self.p), n+1)\n",
    "        ax.plot(x/n, binom.pmf(x, n, self.p), 'bo', ms=8, label='binom pmf')\n",
    "        ax.vlines(x/n, 0, binom.pmf(x, n, self.p), colors='b', lw=5, alpha=0.5)\n",
    "        ax.axvline(x = self.p, color='g')\n",
    "        ax.set_xlabel(\"estimated p\")\n",
    "        ax.set_ylabel(\"probability\")\n",
    "        plt.show()\n",
    "        \n",
    "    def plot_cdf(self, n):\n",
    "        \"\"\"Plot cdf of estimation of p resulting from n tests.\"\"\"\n",
    "        fig, ax = plt.subplots(1, 1)\n",
    "        x = np.arange(binom.ppf(0.001, n, self.p), n+1)\n",
    "        ax.plot(x/n, binom.cdf(x, n, self.p), 'bo', ms=8, label='binom pmf')\n",
    "        ax.vlines(x/n, 0, binom.cdf(x, n, self.p), colors='b', lw=5, alpha=0.5)\n",
    "        ax.axvline(x = self.p, color='g')\n",
    "        ax.set_xlabel(\"estimated p\")\n",
    "        ax.set_ylabel(\"cumulative density function\")\n",
    "        plt.show()\n",
    "\n",
    "    # Testing with variable number of tests\n",
    "    def test_advanced_95(self, min_tests, max_tests):\n",
    "        \"\"\"Test the machine until it is 95% certain that the machine works or we reached the maximum number of tests.\n",
    "        Maximum number of tests is given by max_tests.\n",
    "        \"\"\"\n",
    "        successes = 0\n",
    "        p_ = 1\n",
    "        #min_tests = 50\n",
    "        \n",
    "        if max_tests < min_tests:\n",
    "            min_tests = max_tests\n",
    "\n",
    "        for n in range(1, min_tests):\n",
    "            if self.diagnosis(self.deposit(Wafer())):\n",
    "                successes += 1\n",
    "            p_ = successes / n\n",
    "        \n",
    "        for n in range(min_tests + 1, max_tests + 1):\n",
    "            if self.diagnosis(self.deposit(Wafer())):\n",
    "                successes += 1\n",
    "            p_ = successes / n\n",
    "            \n",
    "            (left, right) = Machine.wilson_score_interval_95(p_, n)\n",
    "            \n",
    "            if (left > cutoff and right > cutoff):\n",
    "                return (p_, n, True) # true means that a definitive answer was reached\n",
    "            \n",
    "            if (left < cutoff and right < cutoff):\n",
    "                return (p_, n, True)\n",
    "                   \n",
    "        return (p_, n, False) # false means that the maximum number of tests was reached before reaching a definitive answer\n",
    "    \n",
    "    def calculate_interval(certainty, p_, n):\n",
    "        \"\"\"Incorrect implementation, use wilson_score_interval_95 instead\"\"\"\n",
    "        error = (1 - certainty) / 2\n",
    "        \n",
    "        # Bounds expressed in successes\n",
    "        leftS = binom.ppf(error, n, p_)\n",
    "        rightS = binom.ppf(1 - error, n, p_)\n",
    "        \n",
    "        # Express in p_\n",
    "        return (leftS / n, rightS / n)\n",
    "\n",
    "    \n",
    "    def wilson_score_interval_95(p_, n):\n",
    "        \"\"\"Returns (the Wilson approximation of) the interval such that it is 95% certain that after n tests\n",
    "        the actual probability of the machine lies in this interval\"\"\"\n",
    "        # From https://en.wikipedia.org/wiki/Binomial_proportion_confidence_interval\n",
    "        z = 1.96 # 1.96 for 95% confidence, 2.576 for 99%\n",
    "        \n",
    "        base = (p_ + z**2/(2*n))/(1+z**2/n)\n",
    "        spread = z/(1+z**2/n) * math.sqrt((p_*(1-p_))/n + z**2/(4*n**2))\n",
    "        \n",
    "        left = base - spread\n",
    "        right = base + spread\n",
    "        \n",
    "        return (left, right)\n",
    "        \n",
    "    def procedure_basic(self, n):\n",
    "        \"\"\"This basic procedure uses the test_basic to approximate the accuracy of the machine.\n",
    "        The basic test takes n wafers and returns the ratio (=p_) of working wafers\"\"\"\n",
    "        return self.test_basic(n) >= cutoff\n",
    "    \n",
    "    def procedure_advanced_95(self, min_tests, max_tests):\n",
    "        \"\"\"This procedure uses test_advanced to approximate the accuracy of the machine.\"\"\"\n",
    "        (p_, n, state) = self.test_advanced_95(min_tests, max_tests)\n",
    "        return p_ >= cutoff\n",
    "    \n",
    "    def procedure_advanced_95_true(self, min_tests, max_tests):\n",
    "        \"\"\"This procedure uses test_advanced to approximate the accuracy of the machine.\"\"\"\n",
    "        (p_, n, state) = self.test_advanced_95(min_tests, max_tests)\n",
    "        if state == True:\n",
    "            return p_ >= cutoff\n",
    "        else: return True\n",
    "        \n",
    "    def procedure_advanced_95_false(self, min_tests, max_tests):\n",
    "        \"\"\"This procedure uses test_advanced to approximate the accuracy of the machine.\"\"\"\n",
    "        (p_, n, state) = self.test_advanced_95(min_tests, max_tests)\n",
    "        if state == True:\n",
    "            return p_ >= cutoff\n",
    "        else: return False\n",
    "    \n",
    "    def procedure_trivial(self):\n",
    "        # This testing procedure basically doesn't test, but accepts all machines\n",
    "        # Used for cost computation purposes\n",
    "        return True\n"
   ]
  },
  {
   "cell_type": "code",
   "execution_count": 269,
   "metadata": {},
   "outputs": [],
   "source": [
    "class Factory:\n",
    "    def __init__(self, mu, sigma):\n",
    "        \"\"\"Factory that makes a machine with accuracies normally distributed.\"\"\"\n",
    "        self.mu = mu\n",
    "        self.sigma = sigma\n",
    "        \n",
    "    def makeMachine(self):\n",
    "        \"\"\"Make machine\"\"\"\n",
    "        p = truncnorm(-self.mu / self.sigma, (1 - self.mu) / self.sigma, loc=self.mu, scale=self.sigma).rvs(1)[0]\n",
    "        return Machine(p)\n",
    "    \n",
    "    def createBatch(self, n):\n",
    "        \"\"\"Makes a list containing n machines, where the distribution of p of these machines comes from the\n",
    "        normal distribution of the factory.\"\"\"\n",
    "        batch = []\n",
    "        for i in range(n):\n",
    "            m = self.makeMachine()\n",
    "            batch.append(m)\n",
    "        return batch\n",
    "    \n",
    "    def test_procedure_batch(self, procedure, batch):\n",
    "        \"\"\"Test a procedure on machines from a list batch\n",
    "        Procedure is a function that takes a machine and returns whether the machien works correctly\"\"\"\n",
    "        successes = 0\n",
    "        costs = 0\n",
    "        time = 0\n",
    "        \n",
    "        for i in range(len(batch) - 1):\n",
    "            if procedure(batch[i]) == (batch[i].p >= cutoff):\n",
    "                successes += 1\n",
    "            costs += batch[i].costs\n",
    "            time  += batch[i].runtime\n",
    "            batch[i].reset()\n",
    "            \n",
    "        costs /= len(batch)\n",
    "        time /= len(batch)\n",
    "        \n",
    "        print(f\"Testing procedure was accurate {successes/len(batch)*100}% of the time.\")\n",
    "\n",
    "        days = time // (24 * 60)\n",
    "        hours = (time % (24 * 60)) // 60\n",
    "        minutes = (time % (24 * 60)) % 60\n",
    "        rcosts = round(costs, 2)\n",
    "\n",
    "        print(\"Test procedure took on average \", days, \"day(s),\", hours, \"hour(s) and\", minutes, \"minute(s).\")\n",
    "        print(\"The costs associated with this test procedure is on average €\" + str(rcosts))\n",
    "        #print(\"Roughly \" + str(hard_machines*100) + \"% of the \" + str(n) + \" machines made had a probability within 0.005 of 0.95.\")\n",
    "    \n",
    "    def test_testing_procedure(self, procedure, n): #onhandige naam maarja...\n",
    "        \"\"\"Test a procedure on machines normally distributed with mu sigma (truncated) n times.\n",
    "        Procedure is a function that takes a machine and returns whether the machine works correctly.\"\"\"\n",
    "        successes = 0\n",
    "        costs = 0\n",
    "        time = 0\n",
    "        hard_machines = 0\n",
    "\n",
    "        for i in range(n):\n",
    "            m = self.makeMachine()\n",
    "            if abs(m.p - 0.95) <= 0.005:\n",
    "                hard_machines += 1\n",
    "            # if procedure gives correct result\n",
    "            if procedure(m) == (m.p >= cutoff):\n",
    "                successes += 1\n",
    "\n",
    "            costs += m.costs\n",
    "            time += m.runtime\n",
    "        costs /= n\n",
    "        time /= n\n",
    "        hard_machines /= n\n",
    "\n",
    "        print(f\"Testing procedure was accurate {successes/n*100}% of the time.\")\n",
    "\n",
    "        days = time // (24 * 60)\n",
    "        hours = (time % (24 * 60)) // 60\n",
    "        minutes = (time % (24 * 60)) % 60\n",
    "        rcosts = round(costs, 2)\n",
    "\n",
    "        print(\"Test procedure took on average \", days, \"day(s),\", hours, \"hour(s) and\", minutes, \"minute(s).\")\n",
    "        print(\"The costs associated with this test procedure is on average €\" + str(rcosts))\n",
    "        print(\"Roughly \" + str(hard_machines*100) + \"% of the \" + str(n) + \" machines made had a probability within 0.005 of 0.95.\")"
   ]
  },
  {
   "cell_type": "markdown",
   "metadata": {},
   "source": [
    "# Playground"
   ]
  },
  {
   "cell_type": "code",
   "execution_count": 238,
   "metadata": {
    "collapsed": true
   },
   "outputs": [],
   "source": [
    "m = Machine(0.963)"
   ]
  },
  {
   "cell_type": "code",
   "execution_count": 239,
   "metadata": {},
   "outputs": [
    {
     "name": "stdout",
     "output_type": "stream",
     "text": [
      "Projected accuracy of machine: 0.97\n",
      "Actual accuracy of machine: 0.963\n",
      "It takes 0 day(s), 18 hour(s) and 23 minute(s) to test.\n",
      "The costs associated with this test method is €448.57\n"
     ]
    }
   ],
   "source": [
    "p_ = m.test_basic(100)\n",
    "print(\"Projected accuracy of machine:\", p_)\n",
    "m.get_stats()\n",
    "m.reset()"
   ]
  },
  {
   "cell_type": "code",
   "execution_count": 240,
   "metadata": {},
   "outputs": [
    {
     "data": {
      "image/png": "[encoded data removed]",
      "text/plain": [
       "<matplotlib.figure.Figure at 0x1b101cd39b0>"
      ]
     },
     "metadata": {},
     "output_type": "display_data"
    }
   ],
   "source": [
    "m.plot_pmf(200)"
   ]
  },
  {
   "cell_type": "code",
   "execution_count": 241,
   "metadata": {},
   "outputs": [
    {
     "data": {
      "image/png": "[encoded data removed]",
      "text/plain": [
       "<matplotlib.figure.Figure at 0x1b101c8c860>"
      ]
     },
     "metadata": {},
     "output_type": "display_data"
    }
   ],
   "source": [
    "m.plot_cdf(200)"
   ]
  },
  {
   "cell_type": "code",
   "execution_count": 242,
   "metadata": {
    "scrolled": true
   },
   "outputs": [
    {
     "name": "stdout",
     "output_type": "stream",
     "text": [
      "(0.9259259259259259, 27, False)\n"
     ]
    }
   ],
   "source": [
    "print(m.test_advanced_95(10, 27))\n",
    "m.reset()"
   ]
  },
  {
   "cell_type": "markdown",
   "metadata": {},
   "source": [
    "---"
   ]
  },
  {
   "cell_type": "code",
   "execution_count": 243,
   "metadata": {},
   "outputs": [
    {
     "data": {
      "text/plain": [
       "(0.9510959078150344, 0.9817369507659165)"
      ]
     },
     "execution_count": 243,
     "metadata": {},
     "output_type": "execute_result"
    }
   ],
   "source": [
    "Machine.wilson_score_interval_95(0.97, 500)"
   ]
  },
  {
   "cell_type": "code",
   "execution_count": 244,
   "metadata": {},
   "outputs": [
    {
     "data": {
      "text/plain": [
       "(0.95399999999999996, 0.98399999999999999)"
      ]
     },
     "execution_count": 244,
     "metadata": {},
     "output_type": "execute_result"
    }
   ],
   "source": [
    "Machine.calculate_interval(0.95, 0.97, 500)"
   ]
  },
  {
   "cell_type": "markdown",
   "metadata": {},
   "source": [
    "Nog niet zo'n slechte schatting"
   ]
  },
  {
   "cell_type": "markdown",
   "metadata": {},
   "source": [
    "---"
   ]
  },
  {
   "cell_type": "code",
   "execution_count": 270,
   "metadata": {
    "collapsed": true
   },
   "outputs": [],
   "source": [
    "factory = Factory(0.98, 0.05)"
   ]
  },
  {
   "cell_type": "code",
   "execution_count": 271,
   "metadata": {},
   "outputs": [
    {
     "name": "stdout",
     "output_type": "stream",
     "text": [
      "Testing procedure was accurate 92.30000000000001% of the time.\n",
      "Test procedure took on average  3.0 day(s), 20.0 hour(s) and 3.1265000000003056 minute(s).\n",
      "The costs associated with this test procedure is on average €2242.86\n",
      "Roughly 9.1% of the 2000 machines made had a probability within 0.005 of 0.95.\n"
     ]
    }
   ],
   "source": [
    "factory.test_testing_procedure(lambda m : m.procedure_basic(500), 2000)"
   ]
  },
  {
   "cell_type": "markdown",
   "metadata": {},
   "source": [
    "Als de testing procedure bijvoorbeeld 90% van de keren klopt, is dat een heel **slecht** teken in dit geval. Alle machines goedkeuren bijvoorbeeld zou nog beter zijn, zie hieronder.\n",
    "\n",
    "\n",
    "\n",
    "**Misschien moet de verdeling van de accuracy van de machines iets minder optimistisch?**<br>\n",
    "zo beter?"
   ]
  },
  {
   "cell_type": "code",
   "execution_count": 261,
   "metadata": {},
   "outputs": [
    {
     "name": "stdout",
     "output_type": "stream",
     "text": [
      "Testing procedure was accurate 58.35% of the time.\n",
      "Test procedure took on average  0.0 day(s), 0.0 hour(s) and 0.0 minute(s).\n",
      "The costs associated with this test procedure is on average €0.0\n",
      "Roughly 10.549999999999999% of the 2000 machines made had a probability within 0.005 of 0.95.\n"
     ]
    }
   ],
   "source": [
    "factory.test_testing_procedure(Machine.procedure_trivial, 2000)"
   ]
  },
  {
   "cell_type": "markdown",
   "metadata": {},
   "source": [
    "# Proper Testing"
   ]
  },
  {
   "cell_type": "code",
   "execution_count": 262,
   "metadata": {
    "collapsed": true
   },
   "outputs": [],
   "source": [
    "def basic(n):\n",
    "    return lambda m : m.procedure_basic(n)"
   ]
  },
  {
   "cell_type": "code",
   "execution_count": 263,
   "metadata": {
    "collapsed": true
   },
   "outputs": [],
   "source": [
    "def advanced(min_n, max_n):\n",
    "    return lambda m : m.procedure_advanced_95(min_n, max_n)"
   ]
  },
  {
   "cell_type": "code",
   "execution_count": 264,
   "metadata": {
    "collapsed": true
   },
   "outputs": [],
   "source": [
    "def advanced_true(min_n, max_n):\n",
    "    return lambda m : m.procedure_advanced_95_true(min_n, max_n)\n",
    "\n",
    "def advanced_false(min_n, max_n):\n",
    "    return lambda m : m.procedure_advanced_95_false(min_n, max_n)"
   ]
  },
  {
   "cell_type": "code",
   "execution_count": 203,
   "metadata": {},
   "outputs": [
    {
     "name": "stdout",
     "output_type": "stream",
     "text": [
      "Basic(100)\n",
      "Testing procedure was accurate 83.15% of the time.\n",
      "Test procedure took on average  0.0 day(s), 18.0 hour(s) and 24.846000000000004 minute(s).\n",
      "The costs associated with this test procedure is on average €448.57\n",
      "Roughly 9.3% of the 2000 machines made had a probability within 0.005 of 0.95.\n",
      "\n",
      "Basic(200)\n",
      "Testing procedure was accurate 88.14999999999999% of the time.\n",
      "Test procedure took on average  1.0 day(s), 12.0 hour(s) and 49.80749999999989 minute(s).\n",
      "The costs associated with this test procedure is on average €897.14\n",
      "Roughly 10.65% of the 2000 machines made had a probability within 0.005 of 0.95.\n",
      "\n",
      "Basic(300)\n",
      "Testing procedure was accurate 89.4% of the time.\n",
      "Test procedure took on average  2.0 day(s), 7.0 hour(s) and 14.75500000000011 minute(s).\n",
      "The costs associated with this test procedure is on average €1345.71\n",
      "Roughly 10.15% of the 2000 machines made had a probability within 0.005 of 0.95.\n",
      "\n",
      "Basic(400)\n",
      "Testing procedure was accurate 91.14999999999999% of the time.\n",
      "Test procedure took on average  3.0 day(s), 1.0 hour(s) and 39.560999999999694 minute(s).\n",
      "The costs associated with this test procedure is on average €1794.29\n",
      "Roughly 10.100000000000001% of the 2000 machines made had a probability within 0.005 of 0.95.\n",
      "\n",
      "Basic(500)\n",
      "Testing procedure was accurate 92.25% of the time.\n",
      "Test procedure took on average  3.0 day(s), 20.0 hour(s) and 4.3215000000000146 minute(s).\n",
      "The costs associated with this test procedure is on average €2242.86\n",
      "Roughly 10.45% of the 2000 machines made had a probability within 0.005 of 0.95.\n",
      "\n",
      "Basic(600)\n",
      "Testing procedure was accurate 93.10000000000001% of the time.\n",
      "Test procedure took on average  4.0 day(s), 14.0 hour(s) and 29.193500000000313 minute(s).\n",
      "The costs associated with this test procedure is on average €2691.43\n",
      "Roughly 9.75% of the 2000 machines made had a probability within 0.005 of 0.95.\n",
      "\n",
      "Basic(700)\n",
      "Testing procedure was accurate 94.45% of the time.\n",
      "Test procedure took on average  5.0 day(s), 8.0 hour(s) and 53.868499999999585 minute(s).\n",
      "The costs associated with this test procedure is on average €3140.0\n",
      "Roughly 11.1% of the 2000 machines made had a probability within 0.005 of 0.95.\n",
      "\n",
      "Basic(800)\n",
      "Testing procedure was accurate 93.30000000000001% of the time.\n",
      "Test procedure took on average  6.0 day(s), 3.0 hour(s) and 18.13299999999981 minute(s).\n",
      "The costs associated with this test procedure is on average €3588.57\n",
      "Roughly 10.05% of the 2000 machines made had a probability within 0.005 of 0.95.\n",
      "\n",
      "Basic(900)\n",
      "Testing procedure was accurate 93.30000000000001% of the time.\n",
      "Test procedure took on average  6.0 day(s), 21.0 hour(s) and 42.87299999999959 minute(s).\n",
      "The costs associated with this test procedure is on average €4037.14\n",
      "Roughly 9.950000000000001% of the 2000 machines made had a probability within 0.005 of 0.95.\n",
      "\n",
      "Basic(1000)\n",
      "Testing procedure was accurate 94.3% of the time.\n",
      "Test procedure took on average  7.0 day(s), 16.0 hour(s) and 9.605499999999665 minute(s).\n",
      "The costs associated with this test procedure is on average €4485.71\n",
      "Roughly 9.5% of the 2000 machines made had a probability within 0.005 of 0.95.\n",
      "\n"
     ]
    }
   ],
   "source": [
    "for n in range(100, 1100, 100):\n",
    "    print(f\"Basic({n})\")\n",
    "    factory.test_testing_procedure(basic(n), 2000)\n",
    "    print()"
   ]
  },
  {
   "cell_type": "code",
   "execution_count": 204,
   "metadata": {},
   "outputs": [
    {
     "name": "stdout",
     "output_type": "stream",
     "text": [
      "Advanced(100)\n",
      "Testing procedure was accurate 84.2% of the time.\n",
      "Test procedure took on average  0.0 day(s), 16.0 hour(s) and 12.879500000000007 minute(s).\n",
      "The costs associated with this test procedure is on average €395.21\n",
      "Roughly 8.799999999999999% of the 2000 machines made had a probability within 0.005 of 0.95.\n",
      "\n",
      "Advanced(200)\n",
      "Testing procedure was accurate 87.7% of the time.\n",
      "Test procedure took on average  1.0 day(s), 2.0 hour(s) and 46.1105 minute(s).\n",
      "The costs associated with this test procedure is on average €652.5\n",
      "Roughly 10.100000000000001% of the 2000 machines made had a probability within 0.005 of 0.95.\n",
      "\n",
      "Advanced(300)\n",
      "Testing procedure was accurate 89.25% of the time.\n",
      "Test procedure took on average  1.0 day(s), 9.0 hour(s) and 30.632000000000062 minute(s).\n",
      "The costs associated with this test procedure is on average €816.84\n",
      "Roughly 10.75% of the 2000 machines made had a probability within 0.005 of 0.95.\n",
      "\n",
      "Advanced(400)\n",
      "Testing procedure was accurate 90.85% of the time.\n",
      "Test procedure took on average  1.0 day(s), 15.0 hour(s) and 34.10500000000002 minute(s).\n",
      "The costs associated with this test procedure is on average €964.45\n",
      "Roughly 10.0% of the 2000 machines made had a probability within 0.005 of 0.95.\n",
      "\n",
      "Advanced(500)\n",
      "Testing procedure was accurate 91.95% of the time.\n",
      "Test procedure took on average  1.0 day(s), 19.0 hour(s) and 19.7824999999998 minute(s).\n",
      "The costs associated with this test procedure is on average €1056.13\n",
      "Roughly 10.100000000000001% of the 2000 machines made had a probability within 0.005 of 0.95.\n",
      "\n",
      "Advanced(600)\n",
      "Testing procedure was accurate 90.7% of the time.\n",
      "Test procedure took on average  2.0 day(s), 1.0 hour(s) and 44.52799999999979 minute(s).\n",
      "The costs associated with this test procedure is on average €1212.31\n",
      "Roughly 10.7% of the 2000 machines made had a probability within 0.005 of 0.95.\n",
      "\n",
      "Advanced(700)\n",
      "Testing procedure was accurate 92.9% of the time.\n",
      "Test procedure took on average  2.0 day(s), 3.0 hour(s) and 2.911999999999807 minute(s).\n",
      "The costs associated with this test procedure is on average €1244.27\n",
      "Roughly 9.1% of the 2000 machines made had a probability within 0.005 of 0.95.\n",
      "\n",
      "Advanced(800)\n",
      "Testing procedure was accurate 92.65% of the time.\n",
      "Test procedure took on average  2.0 day(s), 8.0 hour(s) and 40.36000000000013 minute(s).\n",
      "The costs associated with this test procedure is on average €1381.26\n",
      "Roughly 10.299999999999999% of the 2000 machines made had a probability within 0.005 of 0.95.\n",
      "\n",
      "Advanced(900)\n",
      "Testing procedure was accurate 92.10000000000001% of the time.\n",
      "Test procedure took on average  2.0 day(s), 13.0 hour(s) and 6.070000000000164 minute(s).\n",
      "The costs associated with this test procedure is on average €1489.16\n",
      "Roughly 10.6% of the 2000 machines made had a probability within 0.005 of 0.95.\n",
      "\n",
      "Advanced(1000)\n",
      "Testing procedure was accurate 93.55% of the time.\n",
      "Test procedure took on average  2.0 day(s), 13.0 hour(s) and 26.89800000000014 minute(s).\n",
      "The costs associated with this test procedure is on average €1497.6\n",
      "Roughly 9.049999999999999% of the 2000 machines made had a probability within 0.005 of 0.95.\n",
      "\n"
     ]
    }
   ],
   "source": [
    "for n in range(100, 1100, 100):\n",
    "    print(f\"Advanced({n})\")\n",
    "    factory.test_testing_procedure(advanced(50, n), 2000)\n",
    "    print()"
   ]
  },
  {
   "cell_type": "code",
   "execution_count": 205,
   "metadata": {},
   "outputs": [
    {
     "name": "stdout",
     "output_type": "stream",
     "text": [
      "Advanced True(100)\n",
      "Testing procedure was accurate 79.14999999999999% of the time.\n",
      "Test procedure took on average  0.0 day(s), 16.0 hour(s) and 6.380499999999984 minute(s).\n",
      "The costs associated with this test procedure is on average €392.54\n",
      "Roughly 9.3% of the 2000 machines made had a probability within 0.005 of 0.95.\n",
      "\n",
      "Advanced True(200)\n",
      "Testing procedure was accurate 83.85000000000001% of the time.\n",
      "Test procedure took on average  1.0 day(s), 2.0 hour(s) and 31.465999999999894 minute(s).\n",
      "The costs associated with this test procedure is on average €646.58\n",
      "Roughly 11.200000000000001% of the 2000 machines made had a probability within 0.005 of 0.95.\n",
      "\n",
      "Advanced True(300)\n",
      "Testing procedure was accurate 85.45% of the time.\n",
      "Test procedure took on average  1.0 day(s), 9.0 hour(s) and 14.599500000000035 minute(s).\n",
      "The costs associated with this test procedure is on average €810.29\n",
      "Roughly 9.85% of the 2000 machines made had a probability within 0.005 of 0.95.\n",
      "\n",
      "Advanced True(400)\n",
      "Testing procedure was accurate 86.9% of the time.\n",
      "Test procedure took on average  1.0 day(s), 15.0 hour(s) and 10.0324999999998 minute(s).\n",
      "The costs associated with this test procedure is on average €954.68\n",
      "Roughly 10.9% of the 2000 machines made had a probability within 0.005 of 0.95.\n",
      "\n",
      "Advanced True(500)\n",
      "Testing procedure was accurate 87.2% of the time.\n",
      "Test procedure took on average  1.0 day(s), 21.0 hour(s) and 46.152500000000146 minute(s).\n",
      "The costs associated with this test procedure is on average €1115.54\n",
      "Roughly 10.85% of the 2000 machines made had a probability within 0.005 of 0.95.\n",
      "\n",
      "Advanced True(600)\n",
      "Testing procedure was accurate 88.0% of the time.\n",
      "Test procedure took on average  2.0 day(s), 1.0 hour(s) and 33.97350000000006 minute(s).\n",
      "The costs associated with this test procedure is on average €1207.98\n",
      "Roughly 11.450000000000001% of the 2000 machines made had a probability within 0.005 of 0.95.\n",
      "\n",
      "Advanced True(700)\n",
      "Testing procedure was accurate 88.64999999999999% of the time.\n",
      "Test procedure took on average  2.0 day(s), 5.0 hour(s) and 36.826500000000124 minute(s).\n",
      "The costs associated with this test procedure is on average €1306.7\n",
      "Roughly 10.299999999999999% of the 2000 machines made had a probability within 0.005 of 0.95.\n",
      "\n",
      "Advanced True(800)\n",
      "Testing procedure was accurate 88.64999999999999% of the time.\n",
      "Test procedure took on average  2.0 day(s), 10.0 hour(s) and 46.70649999999978 minute(s).\n",
      "The costs associated with this test procedure is on average €1432.55\n",
      "Roughly 10.15% of the 2000 machines made had a probability within 0.005 of 0.95.\n",
      "\n",
      "Advanced True(900)\n",
      "Testing procedure was accurate 90.60000000000001% of the time.\n",
      "Test procedure took on average  2.0 day(s), 12.0 hour(s) and 6.061999999999898 minute(s).\n",
      "The costs associated with this test procedure is on average €1464.73\n",
      "Roughly 10.549999999999999% of the 2000 machines made had a probability within 0.005 of 0.95.\n",
      "\n",
      "Advanced True(1000)\n",
      "Testing procedure was accurate 90.3% of the time.\n",
      "Test procedure took on average  2.0 day(s), 15.0 hour(s) and 18.36949999999979 minute(s).\n",
      "The costs associated with this test procedure is on average €1542.87\n",
      "Roughly 8.85% of the 2000 machines made had a probability within 0.005 of 0.95.\n",
      "\n"
     ]
    }
   ],
   "source": [
    "for n in range(100, 1100, 100):\n",
    "    print(f\"Advanced True({n})\")\n",
    "    factory.test_testing_procedure(advanced_true(50, n), 2000)\n",
    "    print()"
   ]
  },
  {
   "cell_type": "code",
   "execution_count": 206,
   "metadata": {},
   "outputs": [
    {
     "name": "stdout",
     "output_type": "stream",
     "text": [
      "Advanced False(100)\n",
      "Testing procedure was accurate 43.25% of the time.\n",
      "Test procedure took on average  0.0 day(s), 15.0 hour(s) and 58.852499999999964 minute(s).\n",
      "The costs associated with this test procedure is on average €389.44\n",
      "Roughly 10.2% of the 2000 machines made had a probability within 0.005 of 0.95.\n",
      "\n",
      "Advanced False(200)\n",
      "Testing procedure was accurate 61.6% of the time.\n",
      "Test procedure took on average  1.0 day(s), 2.0 hour(s) and 44.88650000000007 minute(s).\n",
      "The costs associated with this test procedure is on average €652.03\n",
      "Roughly 10.75% of the 2000 machines made had a probability within 0.005 of 0.95.\n",
      "\n",
      "Advanced False(300)\n",
      "Testing procedure was accurate 71.85000000000001% of the time.\n",
      "Test procedure took on average  1.0 day(s), 9.0 hour(s) and 41.09999999999991 minute(s).\n",
      "The costs associated with this test procedure is on average €821.09\n",
      "Roughly 9.950000000000001% of the 2000 machines made had a probability within 0.005 of 0.95.\n",
      "\n",
      "Advanced False(400)\n",
      "Testing procedure was accurate 78.55% of the time.\n",
      "Test procedure took on average  1.0 day(s), 14.0 hour(s) and 44.753999999999905 minute(s).\n",
      "The costs associated with this test procedure is on average €944.38\n",
      "Roughly 9.15% of the 2000 machines made had a probability within 0.005 of 0.95.\n",
      "\n",
      "Advanced False(500)\n",
      "Testing procedure was accurate 79.35% of the time.\n",
      "Test procedure took on average  1.0 day(s), 20.0 hour(s) and 9.528999999999996 minute(s).\n",
      "The costs associated with this test procedure is on average €1076.42\n",
      "Roughly 11.899999999999999% of the 2000 machines made had a probability within 0.005 of 0.95.\n",
      "\n",
      "Advanced False(600)\n",
      "Testing procedure was accurate 82.39999999999999% of the time.\n",
      "Test procedure took on average  2.0 day(s), 0.0 hour(s) and 38.01000000000022 minute(s).\n",
      "The costs associated with this test procedure is on average €1185.31\n",
      "Roughly 10.8% of the 2000 machines made had a probability within 0.005 of 0.95.\n",
      "\n",
      "Advanced False(700)\n",
      "Testing procedure was accurate 83.8% of the time.\n",
      "Test procedure took on average  2.0 day(s), 3.0 hour(s) and 59.5 minute(s).\n",
      "The costs associated with this test procedure is on average €1267.21\n",
      "Roughly 10.35% of the 2000 machines made had a probability within 0.005 of 0.95.\n",
      "\n",
      "Advanced False(800)\n",
      "Testing procedure was accurate 84.65% of the time.\n",
      "Test procedure took on average  2.0 day(s), 9.0 hour(s) and 13.257500000000164 minute(s).\n",
      "The costs associated with this test procedure is on average €1394.5\n",
      "Roughly 9.6% of the 2000 machines made had a probability within 0.005 of 0.95.\n",
      "\n",
      "Advanced False(900)\n",
      "Testing procedure was accurate 87.64999999999999% of the time.\n",
      "Test procedure took on average  2.0 day(s), 8.0 hour(s) and 17.943499999999858 minute(s).\n",
      "The costs associated with this test procedure is on average €1372.08\n",
      "Roughly 9.5% of the 2000 machines made had a probability within 0.005 of 0.95.\n",
      "\n",
      "Advanced False(1000)\n",
      "Testing procedure was accurate 88.7% of the time.\n",
      "Test procedure took on average  2.0 day(s), 12.0 hour(s) and 45.42549999999983 minute(s).\n",
      "The costs associated with this test procedure is on average €1480.77\n",
      "Roughly 10.549999999999999% of the 2000 machines made had a probability within 0.005 of 0.95.\n",
      "\n"
     ]
    }
   ],
   "source": [
    "for n in range(100, 1100, 100):\n",
    "    print(f\"Advanced False({n})\")\n",
    "    factory.test_testing_procedure(advanced_false(50, n), 2000)\n",
    "    print()"
   ]
  },
  {
   "cell_type": "code",
   "execution_count": 186,
   "metadata": {},
   "outputs": [
    {
     "name": "stdout",
     "output_type": "stream",
     "text": [
      "Testing procedure was accurate 56.39999999999999% of the time.\n",
      "Test procedure took on average  0.0 day(s), 0.0 hour(s) and 0.0 minute(s).\n",
      "The costs associated with this test procedure is on average €0.0\n",
      "Roughly 10.05% of the 2000 machines made had a probability within 0.005 of 0.95.\n"
     ]
    }
   ],
   "source": [
    "factory.test_testing_procedure(Machine.procedure_trivial, 2000)"
   ]
  },
  {
   "cell_type": "code",
   "execution_count": 187,
   "metadata": {},
   "outputs": [
    {
     "name": "stdout",
     "output_type": "stream",
     "text": [
      "Testing procedure was accurate 93.25% of the time.\n",
      "Test procedure took on average  3.0 day(s), 3.0 hour(s) and 12.259000000000015 minute(s).\n",
      "The costs associated with this test procedure is on average €1832.59\n",
      "Roughly 10.45% of the 2000 machines made had a probability within 0.005 of 0.95.\n"
     ]
    }
   ],
   "source": [
    "factory.test_testing_procedure(advanced(50, 1500), 2000)"
   ]
  },
  {
   "cell_type": "code",
   "execution_count": 272,
   "metadata": {},
   "outputs": [],
   "source": [
    "newbatch = factory.createBatch(2000)"
   ]
  },
  {
   "cell_type": "code",
   "execution_count": 273,
   "metadata": {},
   "outputs": [
    {
     "name": "stdout",
     "output_type": "stream",
     "text": [
      "Advanced(100)\n",
      "Testing procedure was accurate 82.8% of the time.\n",
      "Test procedure took on average  0.0 day(s), 16.0 hour(s) and 1.7234999999999445 minute(s).\n",
      "The costs associated with this test procedure is on average €390.59\n",
      "\n",
      "Advanced(200)\n",
      "Testing procedure was accurate 87.94999999999999% of the time.\n",
      "Test procedure took on average  1.0 day(s), 2.0 hour(s) and 25.691499999999905 minute(s).\n",
      "The costs associated with this test procedure is on average €644.16\n",
      "\n",
      "Advanced(300)\n",
      "Testing procedure was accurate 90.64999999999999% of the time.\n",
      "Test procedure took on average  1.0 day(s), 9.0 hour(s) and 57.528499999999894 minute(s).\n",
      "The costs associated with this test procedure is on average €827.69\n",
      "\n",
      "Advanced(400)\n",
      "Testing procedure was accurate 89.95% of the time.\n",
      "Test procedure took on average  1.0 day(s), 15.0 hour(s) and 22.914000000000215 minute(s).\n",
      "The costs associated with this test procedure is on average €959.83\n",
      "\n",
      "Advanced(500)\n",
      "Testing procedure was accurate 91.4% of the time.\n",
      "Test procedure took on average  1.0 day(s), 20.0 hour(s) and 48.17450000000008 minute(s).\n",
      "The costs associated with this test procedure is on average €1091.93\n",
      "\n",
      "Advanced(600)\n",
      "Testing procedure was accurate 91.3% of the time.\n",
      "Test procedure took on average  2.0 day(s), 1.0 hour(s) and 46.48149999999987 minute(s).\n",
      "The costs associated with this test procedure is on average €1213.07\n",
      "\n",
      "Advanced(700)\n",
      "Testing procedure was accurate 92.85% of the time.\n",
      "Test procedure took on average  2.0 day(s), 5.0 hour(s) and 12.215499999999793 minute(s).\n",
      "The costs associated with this test procedure is on average €1296.64\n",
      "\n",
      "Advanced(800)\n",
      "Testing procedure was accurate 92.55% of the time.\n",
      "Test procedure took on average  2.0 day(s), 10.0 hour(s) and 27.492499999999836 minute(s).\n",
      "The costs associated with this test procedure is on average €1424.6\n",
      "\n",
      "Advanced(900)\n",
      "Testing procedure was accurate 93.2% of the time.\n",
      "Test procedure took on average  2.0 day(s), 13.0 hour(s) and 24.150500000000193 minute(s).\n",
      "The costs associated with this test procedure is on average €1496.34\n",
      "\n",
      "Advanced(1000)\n",
      "Testing procedure was accurate 92.85% of the time.\n",
      "Test procedure took on average  2.0 day(s), 15.0 hour(s) and 55.51299999999992 minute(s).\n",
      "The costs associated with this test procedure is on average €1557.81\n",
      "\n"
     ]
    }
   ],
   "source": [
    "for n in range(100, 1100, 100):\n",
    "    print(f\"Advanced({n})\")\n",
    "    factory.test_procedure_batch(advanced(50, n), newbatch)\n",
    "    print()"
   ]
  },
  {
   "cell_type": "code",
   "execution_count": 268,
   "metadata": {},
   "outputs": [
    {
     "data": {
      "text/plain": [
       "6096.085714285894"
      ]
     },
     "execution_count": 268,
     "metadata": {},
     "output_type": "execute_result"
    }
   ],
   "source": [
    "newbatch[0].costs"
   ]
  },
  {
   "cell_type": "code",
   "execution_count": 274,
   "metadata": {},
   "outputs": [
    {
     "data": {
      "text/plain": [
       "<function __main__.advanced>"
      ]
     },
     "execution_count": 274,
     "metadata": {},
     "output_type": "execute_result"
    }
   ],
   "source": [
    "advanced"
   ]
  },
  {
   "cell_type": "code",
   "execution_count": null,
   "metadata": {
    "collapsed": true
   },
   "outputs": [],
   "source": []
  }
 ],
 "metadata": {
  "kernelspec": {
   "display_name": "Python 3",
   "language": "python",
   "name": "python3"
  },
  "language_info": {
   "codemirror_mode": {
    "name": "ipython",
    "version": 3
   },
   "file_extension": ".py",
   "mimetype": "text/x-python",
   "name": "python",
   "nbconvert_exporter": "python",
   "pygments_lexer": "ipython3",
   "version": "3.6.1"
  }
 },
 "nbformat": 4,
 "nbformat_minor": 2
}
