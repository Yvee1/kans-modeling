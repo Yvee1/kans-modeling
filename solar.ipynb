{
 "cells": [
  {
   "cell_type": "code",
   "execution_count": 44,
   "metadata": {},
   "outputs": [],
   "source": [
    "import numpy as np\n",
    "from scipy.stats import truncnorm, norm, binom, t\n",
    "import matplotlib.pyplot as plt\n",
    "import random\n",
    "import math"
   ]
  },
  {
   "cell_type": "code",
   "execution_count": 2,
   "metadata": {
    "collapsed": true
   },
   "outputs": [],
   "source": [
    "cutoff = 0.95 # The European norm for the required accuracy of the machine"
   ]
  },
  {
   "cell_type": "code",
   "execution_count": 3,
   "metadata": {
    "collapsed": true
   },
   "outputs": [],
   "source": [
    "class Wafer:\n",
    "    pass"
   ]
  },
  {
   "cell_type": "code",
   "execution_count": 4,
   "metadata": {
    "collapsed": true
   },
   "outputs": [],
   "source": [
    "class SolarCell:\n",
    "    def __init__(self, working):\n",
    "        self.working = working"
   ]
  },
  {
   "cell_type": "code",
   "execution_count": 5,
   "metadata": {},
   "outputs": [],
   "source": [
    "class Machine:\n",
    "    runtime = 0  #In Minutes\n",
    "    costs = 0\n",
    "    \n",
    "    def __init__(self, p):  #Constructor\n",
    "        \"\"\"Make machine with probability p of turning a wafer into a working cell.\"\"\"\n",
    "        self.p = p\n",
    "    \n",
    "    def deposit(self, wafer):\n",
    "        \"\"\"Deposit a Wafer, returns a SolarCell\"\"\"\n",
    "        self.runtime += 9    #9 minutes per deposition per wafer\n",
    "        self.costs += 2 + 87/35  #It costs €2 to do a deposition. Wafers have a base cost of €87, but can be re-used 35 times\n",
    "        working = random.random() < self.p \n",
    "        \n",
    "        return SolarCell(working)\n",
    "    \n",
    "    def diagnosis(self, cell):\n",
    "        \"\"\"Diagnose a SolarCell, returns whether the cell works\"\"\"\n",
    "        self.runtime += 2 if cell.working else 3  # Diagnosis costs 2 minutes if the created cell works, 3 minutes otherwise\n",
    "        return cell.working\n",
    "    \n",
    "    def test_basic(self, n):\n",
    "        \"\"\"Test the machine n times and return the ratio of working cells\"\"\"\n",
    "        wafers = n * [Wafer()] # Create list of n Wafer() objects\n",
    "        cells = list(map(self.deposit, wafers)) # Deposit all wafers\n",
    "        working_cells = list(filter(self.diagnosis, cells)) # Make list of working cells\n",
    "        return len(working_cells)/len(cells) # Determine ratio of the amount of working cells and total cells \n",
    "    \n",
    "    def get_stats(self):\n",
    "        \"\"\"Pretty print the status of machine.\"\"\"\n",
    "        days = self.runtime // (24 * 60)\n",
    "        hours = (self.runtime % (24 * 60)) // 60\n",
    "        minutes = (self.runtime % (24 * 60)) % 60\n",
    "        rcosts = round(self.costs, 2)\n",
    "        \n",
    "        print(\"Actual accuracy of machine:\", self.p)\n",
    "        print(\"It takes\", days, \"day(s),\", hours, \"hour(s) and\", minutes, \"minute(s) to test.\")\n",
    "        print(\"The costs associated with this test method is €\" + str(rcosts))\n",
    "        \n",
    "    def reset(self):\n",
    "        \"\"\"Reset the machine.\"\"\"\n",
    "        self.runtime = 0\n",
    "        self.costs = 0\n",
    "        \n",
    "    def plot_pmf(self, n):\n",
    "        \"\"\"Plot the probability of each estimation of p resulting from n tests.\"\"\"\n",
    "        fig, ax = plt.subplots(1, 1)\n",
    "        x = np.arange(binom.ppf(0.001, n, self.p), n+1)\n",
    "        ax.plot(x/n, binom.pmf(x, n, self.p), 'bo', ms=8, label='binom pmf')\n",
    "        ax.vlines(x/n, 0, binom.pmf(x, n, self.p), colors='b', lw=5, alpha=0.5)\n",
    "        ax.axvline(x = self.p, color='g')\n",
    "        ax.set_xlabel(\"estimated p\")\n",
    "        ax.set_ylabel(\"probability\")\n",
    "        plt.show()\n",
    "        \n",
    "    def plot_cdf(self, n):\n",
    "        \"\"\"Plot cdf of estimation of p resulting from n tests.\"\"\"\n",
    "        fig, ax = plt.subplots(1, 1)\n",
    "        x = np.arange(binom.ppf(0.001, n, self.p), n+1)\n",
    "        ax.plot(x/n, binom.cdf(x, n, self.p), 'bo', ms=8, label='binom pmf')\n",
    "        ax.vlines(x/n, 0, binom.cdf(x, n, self.p), colors='b', lw=5, alpha=0.5)\n",
    "        ax.axvline(x = self.p, color='g')\n",
    "        ax.set_xlabel(\"estimated p\")\n",
    "        ax.set_ylabel(\"cumulative density function\")\n",
    "        plt.show()\n",
    "\n",
    "    # Testing with variable number of tests\n",
    "    def test_advanced(self, certainty, max_tests):\n",
    "        \"\"\" Test the machine until it is certain whether the machine works or we reached the maximum number of tests.\n",
    "        Certainty is defined by the given certainty, which is a probability (so between 0 and 1).\n",
    "        Maximum number of tests is given by max_tests.\n",
    "        \"\"\"\n",
    "        successes = 0\n",
    "        p_ = 1\n",
    "        start = 5\n",
    "        \n",
    "        for n in range(1, start):\n",
    "            if self.diagnosis(self.deposit(Wafer())):\n",
    "                successes += 1\n",
    "            p_ = successes / n\n",
    "        \n",
    "        for n in range(start + 1, max_tests + 1):\n",
    "            if self.diagnosis(self.deposit(Wafer())):\n",
    "                successes += 1\n",
    "            p_ = successes / n\n",
    "            \n",
    "            (left, right) = self.calculate_interval_(certainty, n, p_)\n",
    "            print(\"Left: \" + str(left))\n",
    "            print(\"Right: \" + str(right))\n",
    "            \n",
    "            if (left > cutoff and right > cutoff):\n",
    "                return (p_, n)\n",
    "            \n",
    "            if (left < cutoff and right < cutoff):\n",
    "                return (p_, n)\n",
    "            \n",
    "        return (p_, n)\n",
    "            \n",
    "    def calculate_interval(self, certainty, n, p_):\n",
    "        \"\"\"Returns the interval such that it is certain with the given certainty that after n tests\n",
    "        the actual probability of the machine lies in this interval\"\"\"\n",
    "        error = (1 - certainty)/2\n",
    "        \n",
    "        # We want to calculate an interval such that P(real p in interval) = certainty after n tests, given p_\n",
    "        # Number of successes S is binomially distributed with P(S=s) = (n s) * (p ^ s) * ((1-p) ^ (n - s))\n",
    "        # Hence the random variable p_ has p_ ~ 1/n * S\n",
    "        # Beneath we calculate (left, right) such that P(p_ in (left,right)) = certainty\n",
    "\n",
    "        left = binom.ppf(error, n, self.p)\n",
    "        # binom.ppf returns the x for which F(x) = P(X <= x) = error\n",
    "        # So for example 95% certainty, it returns the amount of successes s such that P(S <= s) = 0.05\n",
    "        \n",
    "        right = binom.ppf(1 - error, n, self.p)\n",
    "        # And here P(S <= s) = 0.95\n",
    "        \n",
    "        # So now 95% of the possible amounts of successes lie between (left, right)\n",
    "        \n",
    "        # Express this in p_ by adjusting to the ratios\n",
    "        left = left/n\n",
    "        right = right/n\n",
    "        \n",
    "        # Now 95% of p_ lie in (left, right) => VOLGENS MIJ IS DIT NIET WAT WE WILDEN BEREKENEN\n",
    "        # Klopt, en we gebruiken ook self.p, wat niet beschikbaar is voor de testers in het echt\n",
    "        return (left, right)\n",
    "    \n",
    "    def calculate_interval_(self, certainty, n, p_):\n",
    "        \"\"\"Maybe correct version of calculate_interval\"\"\"\n",
    "        error = (1 - certainty) / 2\n",
    "        \n",
    "        # Bounds expressed in successes\n",
    "        leftS = binom.ppf(error, n, p_)\n",
    "        rightS = binom.ppf(1 - error, n, p_)\n",
    "        \n",
    "        # Express in p_\n",
    "        return (leftS / n, rightS / n)\n",
    "    \n",
    "    def certainty_interval(self, certainty, n):\n",
    "        \"\"\"Returns certainty interval around p, s.t. with the given certainty p_ lies in it.\"\"\"\n",
    "        (left_S, right_S) = binom.interval(certainty, n, self.p)\n",
    "        \n",
    "        # This uses self.p! Which we don't know!\n",
    "        \n",
    "        return (left_S / n, right_S / n)\n",
    "    \n",
    "    #def certainty_80_interval(n, a, sigma):\n",
    "    #    \"\"\"Returns certainty interval of 95%, given n tests, with number of tests n,\n",
    "    #       average a, standard deviation sigma\"\"\"\n",
    "    #    # Degrees of freedom = n - 1\n",
    "    #    # Confidence interval is two-sided, so we want 80% chance that p lies in (left, right)\n",
    "    #    # Or said differently, 90% chance that p lies in (left, infinity) and 90% chance that p lies in (-infinity, right)\n",
    "    #    t_value = t.ppf(0.9, n - 1) # https://stackoverflow.com/questions/19339305/python-function-to-get-the-t-statistic\n",
    "    #    print(\"The t-value is: \" + str(t_value))\n",
    "    #    left = a - t_value * sigma / (math.sqrt(n))\n",
    "    #    right = a + t_value * sigma / (math.sqrt(n))\n",
    "    #    return (left, right)\n",
    "    # TIJDVERSPILLING\n",
    "    \n",
    "    def wilson_score_interval_95(p_, n):\n",
    "        # From https://en.wikipedia.org/wiki/Binomial_proportion_confidence_interval\n",
    "        z = 1.96 # for 95% confidence\n",
    "        left =  (p_ + z^2/(2*n))/(1+z^2/n) + z/(1+z^2/n) * math.sqrt((p_*(1-p_))/n + z^2/(4*n^2))\n",
    "        right = (p_ + z^2/(2*n))/(1+z^2/n) - z/(1+z^2/n) * math.sqrt((p_*(1-p_))/n + z^2/(4*n^2))\n",
    "        return (left, right)\n",
    "        \n",
    "    def procedure_basic(self, n):\n",
    "        # This basic test makes n wafers and returns the ratio (=p_) of working wafers\n",
    "        return self.test_basic(n) >= cutoff\n",
    "    \n",
    "    def procedure_trivial(self):\n",
    "        # This testing procedure basically doesn't test, but accepts all machines\n",
    "        # Used for cost computation purposes\n",
    "        return True\n"
   ]
  },
  {
   "cell_type": "code",
   "execution_count": 67,
   "metadata": {
    "collapsed": true
   },
   "outputs": [],
   "source": [
    "def makeMachine(mu, sigma):\n",
    "    \"\"\"Factory that makes a machine with accuracies normally distributed.\"\"\"\n",
    "    p = truncnorm(-mu / sigma, (1 - mu) / sigma, loc=mu, scale=sigma).rvs(1)[0]\n",
    "    return Machine(p)"
   ]
  },
  {
   "cell_type": "code",
   "execution_count": 27,
   "metadata": {
    "collapsed": true
   },
   "outputs": [],
   "source": [
    "# m = makeMachine(0.98, 0.02)\n",
    "m = Machine(0.963)"
   ]
  },
  {
   "cell_type": "code",
   "execution_count": 28,
   "metadata": {},
   "outputs": [
    {
     "name": "stdout",
     "output_type": "stream",
     "text": [
      "Projected accuracy of machine: 0.98\n",
      "Actual accuracy of machine: 0.963\n",
      "It takes 0 day(s), 18 hour(s) and 22 minute(s) to test.\n",
      "The costs associated with this test method is €448.57\n"
     ]
    }
   ],
   "source": [
    "p_ = m.test_basic(100)\n",
    "print(\"Projected accuracy of machine:\", p_)\n",
    "m.get_stats()\n",
    "m.reset()"
   ]
  },
  {
   "cell_type": "code",
   "execution_count": 29,
   "metadata": {},
   "outputs": [
    {
     "data": {
      "image/png": "[encoded data removed]",
      "text/plain": [
       "<matplotlib.figure.Figure at 0x21b5d823438>"
      ]
     },
     "metadata": {},
     "output_type": "display_data"
    }
   ],
   "source": [
    "m.plot_pmf(200)"
   ]
  },
  {
   "cell_type": "code",
   "execution_count": 30,
   "metadata": {},
   "outputs": [
    {
     "data": {
      "image/png": "[encoded data removed]",
      "text/plain": [
       "<matplotlib.figure.Figure at 0x21b6081f4a8>"
      ]
     },
     "metadata": {},
     "output_type": "display_data"
    }
   ],
   "source": [
    "m.plot_cdf(200)"
   ]
  },
  {
   "cell_type": "code",
   "execution_count": 31,
   "metadata": {
    "collapsed": true
   },
   "outputs": [],
   "source": [
    "def neighbourhood(m, epsilon, p, n):\n",
    "    \"\"\"Probability p bar lies in interval [p-epsilon, p+epsilon] after n tests on machine m\"\"\"\n",
    "    return binom.cdf(p + epsilon, n, m.p) - binom.cdf(p - epsilon, n, m.p) ## Trash volgens mij ?"
   ]
  },
  {
   "cell_type": "code",
   "execution_count": 32,
   "metadata": {},
   "outputs": [
    {
     "data": {
      "text/plain": [
       "0.37979711677840267"
      ]
     },
     "execution_count": 32,
     "metadata": {},
     "output_type": "execute_result"
    }
   ],
   "source": [
    "neighbourhood(m, 1, 97, 100)"
   ]
  },
  {
   "cell_type": "markdown",
   "metadata": {},
   "source": [
    "Idee van test_advanced: Interval rond \\bar{p}, met bijvoorbeeld 97.5% kans dat echte p erin ligt. Hoe groter aantal tests n, hoe kleiner interval. Als het gehele interval boven 95% ligt, stop met testen, en het is een goede machine (met 97.5% zekerheid). Als het gehele interval onder 95% ligt, dan is het een slechte machine (met 97.5% zekerheid)."
   ]
  },
  {
   "cell_type": "code",
   "execution_count": 33,
   "metadata": {
    "scrolled": true
   },
   "outputs": [
    {
     "name": "stdout",
     "output_type": "stream",
     "text": [
      "Left: 0.5\n",
      "Right: 1.0\n",
      "Left: 0.571428571429\n",
      "Right: 1.0\n",
      "Left: 0.625\n",
      "Right: 1.0\n",
      "Left: 0.666666666667\n",
      "Right: 1.0\n",
      "Left: 0.7\n",
      "Right: 1.0\n",
      "Left: 0.727272727273\n",
      "Right: 1.0\n",
      "Left: 0.75\n",
      "Right: 1.0\n",
      "Left: 0.769230769231\n",
      "Right: 1.0\n",
      "Left: 0.785714285714\n",
      "Right: 1.0\n",
      "Left: 0.8\n",
      "Right: 1.0\n",
      "Left: 0.8125\n",
      "Right: 1.0\n",
      "Left: 0.823529411765\n",
      "Right: 1.0\n",
      "Left: 0.777777777778\n",
      "Right: 1.0\n",
      "Left: 0.789473684211\n",
      "Right: 1.0\n",
      "Left: 0.8\n",
      "Right: 1.0\n",
      "Left: 0.809523809524\n",
      "Right: 1.0\n",
      "Left: 0.818181818182\n",
      "Right: 1.0\n",
      "Left: 0.826086956522\n",
      "Right: 1.0\n",
      "Left: 0.833333333333\n",
      "Right: 1.0\n",
      "Left: 0.84\n",
      "Right: 1.0\n",
      "Left: 0.769230769231\n",
      "Right: 0.961538461538\n",
      "Left: 0.777777777778\n",
      "Right: 0.962962962963\n",
      "Left: 0.785714285714\n",
      "Right: 0.964285714286\n",
      "Left: 0.793103448276\n",
      "Right: 0.965517241379\n",
      "Left: 0.766666666667\n",
      "Right: 0.966666666667\n",
      "Left: 0.774193548387\n",
      "Right: 0.967741935484\n",
      "Left: 0.78125\n",
      "Right: 0.96875\n",
      "Left: 0.787878787879\n",
      "Right: 0.969696969697\n",
      "Left: 0.794117647059\n",
      "Right: 0.970588235294\n",
      "Left: 0.8\n",
      "Right: 0.971428571429\n",
      "Left: 0.805555555556\n",
      "Right: 0.972222222222\n",
      "Left: 0.810810810811\n",
      "Right: 0.972972972973\n",
      "Left: 0.815789473684\n",
      "Right: 0.973684210526\n",
      "Left: 0.820512820513\n",
      "Right: 0.974358974359\n",
      "Left: 0.825\n",
      "Right: 0.975\n",
      "Left: 0.829268292683\n",
      "Right: 0.975609756098\n",
      "Left: 0.833333333333\n",
      "Right: 0.97619047619\n",
      "Left: 0.837209302326\n",
      "Right: 0.976744186047\n",
      "Left: 0.840909090909\n",
      "Right: 0.977272727273\n",
      "Left: 0.844444444444\n",
      "Right: 0.977777777778\n",
      "Left: 0.804347826087\n",
      "Right: 0.95652173913\n",
      "Left: 0.808510638298\n",
      "Right: 0.957446808511\n",
      "Left: 0.8125\n",
      "Right: 0.958333333333\n",
      "Left: 0.795918367347\n",
      "Right: 0.959183673469\n",
      "Left: 0.8\n",
      "Right: 0.96\n",
      "Left: 0.803921568627\n",
      "Right: 0.960784313725\n",
      "Left: 0.807692307692\n",
      "Right: 0.961538461538\n",
      "Left: 0.811320754717\n",
      "Right: 0.962264150943\n",
      "Left: 0.814814814815\n",
      "Right: 0.962962962963\n",
      "Left: 0.818181818182\n",
      "Right: 0.963636363636\n",
      "Left: 0.821428571429\n",
      "Right: 0.964285714286\n",
      "Left: 0.824561403509\n",
      "Right: 0.964912280702\n",
      "Left: 0.827586206897\n",
      "Right: 0.965517241379\n",
      "Left: 0.830508474576\n",
      "Right: 0.966101694915\n",
      "Left: 0.833333333333\n",
      "Right: 0.966666666667\n",
      "Left: 0.83606557377\n",
      "Right: 0.967213114754\n",
      "Left: 0.838709677419\n",
      "Right: 0.967741935484\n",
      "Left: 0.84126984127\n",
      "Right: 0.968253968254\n",
      "Left: 0.84375\n",
      "Right: 0.96875\n",
      "Left: 0.846153846154\n",
      "Right: 0.969230769231\n",
      "Left: 0.848484848485\n",
      "Right: 0.969696969697\n",
      "Left: 0.850746268657\n",
      "Right: 0.970149253731\n",
      "Left: 0.852941176471\n",
      "Right: 0.970588235294\n",
      "Left: 0.855072463768\n",
      "Right: 0.971014492754\n",
      "Left: 0.842857142857\n",
      "Right: 0.957142857143\n",
      "Left: 0.816901408451\n",
      "Right: 0.943661971831\n"
     ]
    },
    {
     "data": {
      "text/plain": [
       "(0.8873239436619719, 71)"
      ]
     },
     "execution_count": 33,
     "metadata": {},
     "output_type": "execute_result"
    }
   ],
   "source": [
    "m.reset()\n",
    "m.test_advanced(0.9, 500)"
   ]
  },
  {
   "cell_type": "code",
   "execution_count": 34,
   "metadata": {},
   "outputs": [
    {
     "data": {
      "text/plain": [
       "(0.0, 1.0)"
      ]
     },
     "execution_count": 34,
     "metadata": {},
     "output_type": "execute_result"
    }
   ],
   "source": [
    "m.calculate_interval_(0.95, 1, 0.9)"
   ]
  },
  {
   "cell_type": "code",
   "execution_count": 35,
   "metadata": {},
   "outputs": [
    {
     "data": {
      "text/plain": [
       "(0.94699999999999995, 0.97699999999999998)"
      ]
     },
     "execution_count": 35,
     "metadata": {},
     "output_type": "execute_result"
    }
   ],
   "source": [
    "m.certainty_interval(0.99, 1000)"
   ]
  },
  {
   "cell_type": "code",
   "execution_count": 36,
   "metadata": {
    "collapsed": true
   },
   "outputs": [],
   "source": [
    "def test_testing_procedure(procedure, mu, sigma, n): #onhandige naam maarja...\n",
    "    \"\"\"Test a procedure on machines normally distributed with mu sigma (truncated) n times.\n",
    "    Procedure is a function that takes a machine and returns whether the machine works correctly.\"\"\"\n",
    "    successes = 0\n",
    "    costs = 0\n",
    "    time = 0\n",
    "    \n",
    "    for i in range(n):\n",
    "        m = makeMachine(mu, sigma)\n",
    "        \n",
    "        # if procedure gives correct result\n",
    "        if procedure(m) == (m.p >= cutoff):\n",
    "            successes += 1\n",
    "        \n",
    "        costs += m.costs\n",
    "        time += m.runtime\n",
    "\n",
    "    costs /= n\n",
    "    time /= n\n",
    "    \n",
    "    print(f\"Testing procedure was accurate {successes/n*100}% of the time.\")\n",
    "    \n",
    "    days = time // (24 * 60)\n",
    "    hours = (time % (24 * 60)) // 60\n",
    "    minutes = (time % (24 * 60)) % 60\n",
    "    rcosts = round(costs, 2)\n",
    "    \n",
    "    print(\"Test procedure took on average \", days, \"day(s),\", hours, \"hour(s) and\", minutes, \"minute(s).\")\n",
    "    print(\"The costs associated with this test procedure is on average €\" + str(rcosts))"
   ]
  },
  {
   "cell_type": "code",
   "execution_count": 37,
   "metadata": {},
   "outputs": [
    {
     "name": "stdout",
     "output_type": "stream",
     "text": [
      "Testing procedure was accurate 90.60000000000001% of the time.\n",
      "Test procedure took on average  0.0 day(s), 9.0 hour(s) and 11.052000000000021 minute(s).\n",
      "The costs associated with this test procedure is on average €224.29\n"
     ]
    }
   ],
   "source": [
    "test_testing_procedure(lambda m : m.procedure_basic(50), 0.98, 0.01, 2000)"
   ]
  },
  {
   "cell_type": "markdown",
   "metadata": {},
   "source": [
    "Als de testing procedure bijvoorbeeld 90% van de keren klopt, is dat een heel **slecht** teken in dit geval. Alle machines goedkeuren bijvoorbeeld zou nog beter zijn, zie hieronder.\n",
    "\n",
    "\n",
    "\n",
    "**Misschien moet de verdeling van de accuracy van de machines iets minder optimistisch?**"
   ]
  },
  {
   "cell_type": "code",
   "execution_count": 38,
   "metadata": {},
   "outputs": [
    {
     "name": "stdout",
     "output_type": "stream",
     "text": [
      "Testing procedure was accurate 100.0% of the time.\n",
      "Test procedure took on average  0.0 day(s), 0.0 hour(s) and 0.0 minute(s).\n",
      "The costs associated with this test procedure is on average €0.0\n"
     ]
    }
   ],
   "source": [
    "test_testing_procedure(Machine.procedure_trivial, 0.98, 0.01, 2000)"
   ]
  },
  {
   "cell_type": "code",
   "execution_count": 68,
   "metadata": {},
   "outputs": [
    {
     "name": "stdout",
     "output_type": "stream",
     "text": [
      "The t-value is: 1.37218364111\n"
     ]
    },
    {
     "data": {
      "text/plain": [
       "(9.4148989294876735, 10.585101070512327)"
      ]
     },
     "execution_count": 68,
     "metadata": {},
     "output_type": "execute_result"
    }
   ],
   "source": [
    "certainty_80_interval(11, 10, math.sqrt(2))\n",
    "\n",
    "#  Dit is het voorbeeld van https://en.wikipedia.org/wiki/Student%27s_t-distribution (onder de tabel) \n",
    "#  om te laten zien dat het werkt\n",
    "#  n = sample size = 11, sample mean = 10, sample variance = 2"
   ]
  },
  {
   "cell_type": "code",
   "execution_count": null,
   "metadata": {
    "collapsed": true
   },
   "outputs": [],
   "source": []
  }
 ],
 "metadata": {
  "kernelspec": {
   "display_name": "Python 3",
   "language": "python",
   "name": "python3"
  },
  "language_info": {
   "codemirror_mode": {
    "name": "ipython",
    "version": 3
   },
   "file_extension": ".py",
   "mimetype": "text/x-python",
   "name": "python",
   "nbconvert_exporter": "python",
   "pygments_lexer": "ipython3",
   "version": "3.6.1"
  }
 },
 "nbformat": 4,
 "nbformat_minor": 2
}
