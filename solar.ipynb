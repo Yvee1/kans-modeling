{
 "cells": [
  {
   "cell_type": "code",
   "execution_count": 1,
   "metadata": {
    "collapsed": true
   },
   "outputs": [],
   "source": [
    "import numpy as np\n",
    "from scipy.stats import truncnorm, norm, binom, rv_continuous\n",
    "import matplotlib.pyplot as plt\n",
    "import random\n",
    "import math"
   ]
  },
  {
   "cell_type": "markdown",
   "metadata": {},
   "source": [
    "# Constants & Assumptions"
   ]
  },
  {
   "cell_type": "code",
   "execution_count": 2,
   "metadata": {
    "collapsed": true
   },
   "outputs": [],
   "source": [
    "cutoff = 0.95 # The European norm for the required accuracy of the machine"
   ]
  },
  {
   "cell_type": "code",
   "execution_count": 3,
   "metadata": {
    "collapsed": true
   },
   "outputs": [],
   "source": [
    "price = 119000 # in €, price of machine"
   ]
  },
  {
   "cell_type": "code",
   "execution_count": 4,
   "metadata": {
    "collapsed": true
   },
   "outputs": [],
   "source": [
    "cost_of_failing = price / 10 # Price company has to pay of delivering a machine that doesn't satisfy European norm"
   ]
  },
  {
   "cell_type": "code",
   "execution_count": 5,
   "metadata": {
    "collapsed": true
   },
   "outputs": [],
   "source": [
    "# cost_of_failing = 0"
   ]
  },
  {
   "cell_type": "markdown",
   "metadata": {},
   "source": [
    "# Classes"
   ]
  },
  {
   "cell_type": "code",
   "execution_count": 6,
   "metadata": {
    "collapsed": true
   },
   "outputs": [],
   "source": [
    "class Wafer:\n",
    "    pass"
   ]
  },
  {
   "cell_type": "code",
   "execution_count": 7,
   "metadata": {
    "collapsed": true
   },
   "outputs": [],
   "source": [
    "class SolarCell:\n",
    "    def __init__(self, working):\n",
    "        self.working = working"
   ]
  },
  {
   "cell_type": "code",
   "execution_count": 8,
   "metadata": {
    "collapsed": true
   },
   "outputs": [],
   "source": [
    "class Machine:\n",
    "    runtime = 0  #In Minutes\n",
    "    costs = 0\n",
    "    \n",
    "    def __init__(self, p):  #Constructor\n",
    "        \"\"\"Make machine with probability p of turning a wafer into a working cell.\"\"\"\n",
    "        self.p = p\n",
    "    \n",
    "    def deposit(self, wafer):\n",
    "        \"\"\"Deposit a Wafer, returns a SolarCell\"\"\"\n",
    "        self.runtime += 9    #9 minutes per deposition per wafer\n",
    "        self.costs += 2 + 87/35  #It costs €2 to do a deposition. Wafers have a base cost of €87, but can be re-used 35 times\n",
    "        working = random.random() < self.p \n",
    "        \n",
    "        return SolarCell(working)\n",
    "    \n",
    "    def diagnosis(self, cell):\n",
    "        \"\"\"Diagnose a SolarCell, returns whether the cell works\"\"\"\n",
    "        self.runtime += 2 if cell.working else 3  # Diagnosis costs 2 minutes if the created cell works, 3 minutes otherwise\n",
    "        return cell.working\n",
    "    \n",
    "    def test_basic(self, n):\n",
    "        \"\"\"Test the machine n times and return the ratio of working cells\"\"\"\n",
    "        wafers = n * [Wafer()] # Create list of n Wafer() objects\n",
    "        cells = list(map(self.deposit, wafers)) # Deposit all wafers\n",
    "        working_cells = list(filter(self.diagnosis, cells)) # Make list of working cells\n",
    "        return len(working_cells)/len(cells) # Determine ratio of the amount of working cells and total cells \n",
    "    \n",
    "    def get_stats(self):\n",
    "        \"\"\"Pretty print the status of machine.\"\"\"\n",
    "        days = self.runtime // (24 * 60)\n",
    "        hours = (self.runtime % (24 * 60)) // 60\n",
    "        minutes = (self.runtime % (24 * 60)) % 60\n",
    "        rcosts = round(self.costs, 2)\n",
    "        \n",
    "        print(\"Actual accuracy of machine:\", self.p)\n",
    "        print(\"It takes\", days, \"day(s),\", hours, \"hour(s) and\", minutes, \"minute(s) to test.\")\n",
    "        print(\"The costs associated with this test method is €\" + str(rcosts))\n",
    "        \n",
    "    def reset(self):\n",
    "        \"\"\"Reset the machine.\"\"\"\n",
    "        self.runtime = 0\n",
    "        self.costs = 0\n",
    "        \n",
    "    def plot_pmf(self, n):\n",
    "        \"\"\"Plot the probability of each estimation of p resulting from n tests.\"\"\"\n",
    "        fig, ax = plt.subplots(1, 1)\n",
    "        x = np.arange(binom.ppf(0.001, n, self.p), n+1)\n",
    "        ax.plot(x/n, binom.pmf(x, n, self.p), 'bo', ms=8, label='binom pmf')\n",
    "        ax.vlines(x/n, 0, binom.pmf(x, n, self.p), colors='b', lw=5, alpha=0.5)\n",
    "        ax.axvline(x = self.p, color='g')\n",
    "        ax.set_xlabel(\"estimated p\")\n",
    "        ax.set_ylabel(\"probability\")\n",
    "        plt.show()\n",
    "        \n",
    "    def plot_cdf(self, n):\n",
    "        \"\"\"Plot cdf of estimation of p resulting from n tests.\"\"\"\n",
    "        fig, ax = plt.subplots(1, 1)\n",
    "        x = np.arange(binom.ppf(0.001, n, self.p), n+1)\n",
    "        ax.plot(x/n, binom.cdf(x, n, self.p), 'bo', ms=8, label='binom pmf')\n",
    "        ax.vlines(x/n, 0, binom.cdf(x, n, self.p), colors='b', lw=5, alpha=0.5)\n",
    "        ax.axvline(x = self.p, color='g')\n",
    "        ax.set_xlabel(\"estimated p\")\n",
    "        ax.set_ylabel(\"cumulative density function\")\n",
    "        plt.show()\n",
    "\n",
    "    # Testing with variable number of tests\n",
    "    def test_advanced_95(self, min_tests, max_tests):\n",
    "        \"\"\"Test the machine until it is 95% certain that the machine works or we reached the maximum number of tests.\n",
    "        Maximum number of tests is given by max_tests.\n",
    "        \"\"\"\n",
    "        successes = 0\n",
    "        p_ = 1\n",
    "        \n",
    "        if max_tests < min_tests:\n",
    "            min_tests = max_tests + 1\n",
    "\n",
    "        for n in range(1, min_tests):\n",
    "            if self.diagnosis(self.deposit(Wafer())):\n",
    "                successes += 1\n",
    "            p_ = successes / n\n",
    "        \n",
    "        for n in range(min_tests + 1, max_tests + 1):\n",
    "            if self.diagnosis(self.deposit(Wafer())):\n",
    "                successes += 1\n",
    "            p_ = successes / n\n",
    "            \n",
    "            (left, right) = Machine.wilson_score_interval_95(p_, n)\n",
    "            \n",
    "            if (left > cutoff and right > cutoff):\n",
    "                return (p_, n)\n",
    "            \n",
    "            if (left < cutoff and right < cutoff):\n",
    "                return (p_, n)\n",
    "                   \n",
    "        return (p_, n)\n",
    "    \n",
    "    def calculate_interval(certainty, p_, n):\n",
    "        \"\"\"Incorrect implementation, use wilson_score_interval_95 instead\"\"\"\n",
    "        error = (1 - certainty) / 2\n",
    "        \n",
    "        # Bounds expressed in successes\n",
    "        leftS = binom.ppf(error, n, p_)\n",
    "        rightS = binom.ppf(1 - error, n, p_)\n",
    "        \n",
    "        # Express in p_\n",
    "        return (leftS / n, rightS / n)\n",
    "\n",
    "    \n",
    "    def wilson_score_interval_95(p_, n):\n",
    "        \"\"\"Returns (the Wilson approximation of) the interval such that it is 95% certain that after n tests\n",
    "        the actual probability of the machine lies in this interval\"\"\"\n",
    "        # From https://en.wikipedia.org/wiki/Binomial_proportion_confidence_interval\n",
    "        z = 1.96 # for 95% confidence\n",
    "        \n",
    "        base = (p_ + z**2/(2*n))/(1+z**2/n)\n",
    "        spread = z/(1+z**2/n) * math.sqrt((p_*(1-p_))/n + z**2/(4*n**2))\n",
    "        \n",
    "        left = base - spread\n",
    "        right = base + spread\n",
    "        \n",
    "        return (left, right)\n",
    "        \n",
    "    def procedure_basic(self, n):\n",
    "        \"\"\"This basic procedure uses the test_basic to approximate the accuracy of the machine.\n",
    "        The basic test takes n wafers and returns the ratio (=p_) of working wafers\"\"\"\n",
    "        return self.test_basic(n) >= cutoff\n",
    "    \n",
    "    def procedure_advanced_95(self, min_tests, max_tests):\n",
    "        \"\"\"This procedure uses test_advanced to approximate the accuracy of the machine.\"\"\"\n",
    "        (p_, n) = self.test_advanced_95(min_tests, max_tests)\n",
    "        return p_ >= cutoff\n",
    "    \n",
    "    def procedure_advanced_95_true(self, min_tests, max_tests):\n",
    "        \"\"\"This procedure uses test_advanced to approximate the accuracy of the machine.\"\"\"\n",
    "        (p_, n) = self.test_advanced_95(min_tests, max_tests)\n",
    "        if n == max_tests:\n",
    "            return True\n",
    "        else: return p_ >= cutoff\n",
    "        \n",
    "    def procedure_advanced_95_false(self, min_tests, max_tests):\n",
    "        \"\"\"This procedure uses test_advanced to approximate the accuracy of the machine.\"\"\"\n",
    "        (p_, n) = self.test_advanced_95(min_tests, max_tests)\n",
    "        if n == max_tests:\n",
    "            return False\n",
    "        else: return p_ >= cutoff\n",
    "    \n",
    "    def procedure_trivial(self):\n",
    "        # This testing procedure basically doesn't test, but accepts all machines\n",
    "        # Used for cost computation purposes\n",
    "        return True\n"
   ]
  },
  {
   "cell_type": "code",
   "execution_count": 9,
   "metadata": {
    "collapsed": true
   },
   "outputs": [],
   "source": [
    "class double_trunc_norm_gen(rv_continuous):\n",
    "    # Doesn't work for generating rvs, but still useful for plotting\n",
    "    \"Double truncated normal\"\n",
    "    def _pdf(self, x, mu1, sigma1, mu2, sigma2, step):\n",
    "        return step * truncnorm.pdf(x, -mu1 / sigma1, (1 - mu1) / sigma1, loc=mu1, scale=sigma1) \\\n",
    "             + (1-step) * truncnorm.pdf(x, -mu2 / sigma2, (1 - mu2) / sigma2, loc=mu2, scale=sigma2)"
   ]
  },
  {
   "cell_type": "code",
   "execution_count": 10,
   "metadata": {
    "collapsed": true
   },
   "outputs": [],
   "source": [
    "double_trunc_norm = double_trunc_norm_gen(name=\"double truncated normal\")"
   ]
  },
  {
   "cell_type": "markdown",
   "metadata": {},
   "source": [
    "## Factory"
   ]
  },
  {
   "cell_type": "code",
   "execution_count": 11,
   "metadata": {
    "collapsed": true
   },
   "outputs": [],
   "source": [
    "class Factory:\n",
    "    def __init__(self, mu, sigma):\n",
    "        \"\"\"Factory that makes a machine with accuracies normally distributed.\"\"\"\n",
    "        self.mu = mu\n",
    "        self.sigma = sigma\n",
    "        \n",
    "    def makeMachines(self, n):\n",
    "        \"\"\"Make machine\"\"\"\n",
    "        ps = truncnorm(-self.mu / self.sigma, (1 - self.mu) / self.sigma, loc=self.mu, scale=self.sigma).rvs(n)\n",
    "        return list(map(Machine, ps))\n",
    "    \n",
    "    def makeMachine(self):\n",
    "        return self.makeMachines(1)[0]\n",
    "    \n",
    "    def test_testing_procedure(self, procedure, n, **kwargs): #onhandige naam maarja...\n",
    "        \"\"\"Test a procedure on machines normally distributed with mu sigma (truncated) n times.\n",
    "        Procedure is a function that takes a machine and returns whether the machine works correctly.\"\"\"\n",
    "        successes = 0\n",
    "        costs = 0\n",
    "        time = 0\n",
    "        \n",
    "        machines = kwargs.get('batch', self.makeMachines(n))\n",
    "#         machines = self.makeMachines(n)\n",
    "\n",
    "        for m in machines:\n",
    "            # if procedure gives correct result\n",
    "            if procedure(m) == (m.p >= cutoff):\n",
    "                successes += 1\n",
    "\n",
    "            costs += m.costs\n",
    "            time += m.runtime\n",
    "            \n",
    "            m.reset()\n",
    "\n",
    "        costs /= n\n",
    "        time /= n\n",
    "        accuracy = successes / n\n",
    "        \n",
    "        total_costs = costs + (1 - accuracy) * cost_of_failing\n",
    "        \n",
    "        return (total_costs, costs, time, accuracy)\n",
    "    \n",
    "    def print_testing_procedure(self, procedure, n):\n",
    "        (total_costs, costs, time, accuracy) = self.test_testing_procedure(procedure, n)\n",
    "        \n",
    "        print(f\"Testing procedure was accurate {accuracy * 100}% of the time.\")\n",
    "\n",
    "        days = time // (24 * 60)\n",
    "        hours = (time % (24 * 60)) // 60\n",
    "        minutes = (time % (24 * 60)) % 60\n",
    "        rcosts = round(costs, 2)\n",
    "        \n",
    "        r_total_costs = round(total_costs, 2)\n",
    "\n",
    "        print(\"Test procedure took on average \", days, \"day(s),\", hours, \"hour(s) and\", minutes, \"minute(s).\")\n",
    "        print(\"The costs associated with this test procedure is on average €\" + str(rcosts))\n",
    "        print(f\"Total costs is on average € {r_total_costs}\")\n",
    "    \n",
    "    def compare_testing_procedures(self, procedure1, procedure2, n, **kwargs):\n",
    "        \"\"\"Get two procedures and return the name, min_costs and min_time of the cheapest one\"\"\"\n",
    "        batch = kwargs.get('batch', None)\n",
    "        if batch:\n",
    "            (total_costs1, costs1, time1, accuracy1) = self.test_testing_procedure(procedure1, n, batch=batch)\n",
    "            (total_costs2, costs2, time2, accuracy2) = self.test_testing_procedure(procedure2, n, batch=batch)\n",
    "        else:\n",
    "            (total_costs1, costs1, time1, accuracy1) = self.test_testing_procedure(procedure1, n)\n",
    "            (total_costs2, costs2, time2, accuracy2) = self.test_testing_procedure(procedure2, n)\n",
    "\n",
    "        if total_costs1 < total_costs2:\n",
    "            min_total_costs = total_costs1\n",
    "            costs = costs1\n",
    "            time = time1\n",
    "            name = procedure1.__name__\n",
    "            accuracy = accuracy1\n",
    "        else:\n",
    "            min_total_costs = total_costs2\n",
    "            costs = costs2\n",
    "            time = time2\n",
    "            name = procedure2.__name__\n",
    "            accuracy = accuracy2\n",
    "        return (name, min_total_costs, costs, time, accuracy)\n",
    "    \n",
    "    def compare_list_testing_procedures(self, procedures, n, **kwargs):\n",
    "        batch = kwargs.get('batch', None)\n",
    "        name = \"\"\n",
    "        min_total_costs = 999999999999999\n",
    "        for i in range(len(procedures)-1):\n",
    "            print(procedures[i].__name__)\n",
    "            print(procedures[i+1].__name__)\n",
    "            if batch:\n",
    "                (name_, min_total_costs_, costs_, time_, accuracy_) = self.compare_testing_procedures(procedures[i], procedures[i+1], n, batch=batch)\n",
    "            else:\n",
    "                (name_, min_total_costs_, costs_, time_, accuracy_) = self.compare_testing_procedures(procedures[i], procedures[i+1], n)\n",
    "            print(name_, min_total_costs_, costs_, time_, accuracy_)\n",
    "            print()\n",
    "            if min_total_costs_ < min_total_costs:\n",
    "                min_total_costs = min_total_costs_\n",
    "                time = time_\n",
    "                costs = costs_\n",
    "                accuracy = accuracy_\n",
    "                name = name_\n",
    "        return (name, min_total_costs, costs, time, accuracy)"
   ]
  },
  {
   "cell_type": "code",
   "execution_count": 12,
   "metadata": {
    "collapsed": true
   },
   "outputs": [],
   "source": [
    "class AltFactory(Factory):\n",
    "    def __init__(self, mu1, sigma1, mu2, sigma2, step):\n",
    "        \"\"\"Factory that makes a machine with accuracies taken from two normal distributions, truncated between 0 and 1.\n",
    "        With probability step from a truncated normal distribution around mu1 with deviation sigma1.\n",
    "        With probability 1-step from a truncated normal distribution around mu2 with deviation sigma2.\n",
    "        \"\"\"\n",
    "        self.mu1 = mu1\n",
    "        self.sigma1 = sigma1\n",
    "        self.mu2 = mu2\n",
    "        self.sigma2 = sigma2\n",
    "        self.step = step\n",
    "        \n",
    "    def makeMachines(self, n):\n",
    "        \"\"\"Make machine\"\"\"\n",
    "        if random.random() < self.step:\n",
    "            mu = self.mu1\n",
    "            sigma = self.sigma1\n",
    "        else:\n",
    "            mu = self.mu2\n",
    "            sigma = self.sigma2\n",
    "        ps = truncnorm(-mu / sigma, (1 - mu) / sigma, loc=mu, scale=sigma).rvs(n)\n",
    "        return map(Machine, ps)"
   ]
  },
  {
   "cell_type": "markdown",
   "metadata": {},
   "source": [
    "# Playground"
   ]
  },
  {
   "cell_type": "code",
   "execution_count": 13,
   "metadata": {},
   "outputs": [
    {
     "data": {
      "image/png": "[encoded data removed]",
      "text/plain": [
       "<matplotlib.figure.Figure at 0x253ea52fd68>"
      ]
     },
     "metadata": {},
     "output_type": "display_data"
    }
   ],
   "source": [
    "mu1 = 0.98\n",
    "sigma1 = 0.05\n",
    "mu2 = 0.3\n",
    "sigma2 = 0.2\n",
    "\n",
    "fig, ax = plt.subplots(1, 1)\n",
    "x = np.arange(0, 1.001, 0.001)\n",
    "ax.plot(x, double_trunc_norm.pdf(x, mu1, sigma1, mu2, sigma2, 0.5))\n",
    "ax.set_xlabel(\"machine accuracy\")\n",
    "ax.set_ylabel(\"probability density function\")\n",
    "fig.suptitle('double truncated normal pdf')\n",
    "plt.show()"
   ]
  },
  {
   "cell_type": "markdown",
   "metadata": {},
   "source": [
    "# Proper Testing"
   ]
  },
  {
   "cell_type": "code",
   "execution_count": 14,
   "metadata": {
    "collapsed": true
   },
   "outputs": [],
   "source": [
    "def basic(n):\n",
    "    f = lambda m : m.procedure_basic(n)\n",
    "    f.__name__ = f\"Basic({n})\"\n",
    "    return f"
   ]
  },
  {
   "cell_type": "code",
   "execution_count": 15,
   "metadata": {
    "collapsed": true
   },
   "outputs": [],
   "source": [
    "def advanced(min_n, max_n):\n",
    "    f = lambda m : m.procedure_advanced_95(min_n, max_n)\n",
    "    f.__name__ = f\"Advanced({min_n}, {max_n})\"\n",
    "    return f"
   ]
  },
  {
   "cell_type": "code",
   "execution_count": 16,
   "metadata": {
    "collapsed": true
   },
   "outputs": [],
   "source": [
    "def advanced_true(min_n, max_n):\n",
    "    f = lambda m : m.procedure_advanced_95_true(min_n, max_n)\n",
    "    f.__name__ = f\"Advanced True ({min_n}, {max_n})\"\n",
    "    return f"
   ]
  },
  {
   "cell_type": "code",
   "execution_count": 17,
   "metadata": {
    "collapsed": true
   },
   "outputs": [],
   "source": [
    "def advanced_false(min_n, max_n):\n",
    "    f = lambda m : m.procedure_advanced_95_false(min_n, max_n)\n",
    "    f.__name__ = f\"Advanced False ({min_n}, {max_n})\"\n",
    "    return f"
   ]
  },
  {
   "cell_type": "code",
   "execution_count": 18,
   "metadata": {
    "collapsed": true
   },
   "outputs": [],
   "source": [
    "f = Factory(0.98, 0.05)\n",
    "alt_f = AltFactory(0.98, 0.05, 0.3, 0.2, 0.98)"
   ]
  },
  {
   "cell_type": "code",
   "execution_count": 19,
   "metadata": {
    "collapsed": true
   },
   "outputs": [],
   "source": [
    "def test_basic_vs_advanced(factory):\n",
    "    ns = range(100, 400, 10)\n",
    "    procedures = list(map(basic, ns)) + list(map(lambda max_n: advanced(50, max_n), ns))\n",
    "    (name, min_cost, min_time) = factory.compare_list_testing_procedures(procedures, 2000)"
   ]
  },
  {
   "cell_type": "code",
   "execution_count": 20,
   "metadata": {
    "collapsed": true
   },
   "outputs": [],
   "source": [
    "batch = f.makeMachines(10000)"
   ]
  },
  {
   "cell_type": "code",
   "execution_count": 21,
   "metadata": {
    "collapsed": true
   },
   "outputs": [],
   "source": [
    "def test_advanced_tests(factory, advanced_procedure):\n",
    "    min_ns = range(0, 100, 50)\n",
    "    max_ns = range(100, 400, 50)\n",
    "    procedures = []\n",
    "    for min_n in min_ns:\n",
    "        for max_n in max_ns:\n",
    "            procedures.append(advanced_procedure(min_n, max_n))\n",
    "    (name, min_total_costs, costs, time, accuracy) = factory.compare_list_testing_procedures(procedures, 10000, batch=batch)\n",
    "    print(f\"Test with minimal cost is {name}, with total_costs €{min_total_costs}, costs €{costs}, time {time} and accuracy {accuracy}\")"
   ]
  },
  {
   "cell_type": "code",
   "execution_count": 22,
   "metadata": {},
   "outputs": [
    {
     "name": "stdout",
     "output_type": "stream",
     "text": [
      "Advanced(0, 100)\n",
      "Advanced(0, 150)\n",
      "Advanced(0, 150) 2301.0719942857477 426.82199428574813 1050.6044 0.8425\n",
      "\n",
      "Advanced(0, 150)\n",
      "Advanced(0, 200)\n",
      "Advanced(0, 200) 2328.57897142855 510.25897142854956 1256.0318 0.8472\n",
      "\n",
      "Advanced(0, 200)\n",
      "Advanced(0, 250)\n",
      "Advanced(0, 250) 2292.9701028571076 582.940102857107 1434.9903 0.8563\n",
      "\n",
      "Advanced(0, 250)\n",
      "Advanced(0, 300)\n",
      "Advanced(0, 250) 2256.339497142819 585.5794971428193 1441.4997 0.8596\n",
      "\n",
      "Advanced(0, 300)\n",
      "Advanced(0, 350)\n",
      "Advanced(0, 300) 2271.510908571422 650.7309085714226 1601.9886 0.8638\n",
      "\n",
      "Advanced(0, 350)\n",
      "Advanced(50, 100)\n",
      "Advanced(0, 350) 2328.8052914285518 702.075291428551 1728.4068 0.8633\n",
      "\n",
      "Advanced(50, 100)\n",
      "Advanced(50, 150)\n",
      "Advanced(50, 150) 2189.6188057143468 533.1388057143471 1312.3048 0.8608\n",
      "\n",
      "Advanced(50, 150)\n",
      "Advanced(50, 200)\n",
      "Advanced(50, 200) 2141.2058628571053 645.3758628571051 1588.5554 0.8743\n",
      "\n",
      "Advanced(50, 200)\n",
      "Advanced(50, 250)\n",
      "Advanced(50, 250) 2130.9829971427885 743.442997142788 1829.9558 0.8834\n",
      "\n",
      "Advanced(50, 250)\n",
      "Advanced(50, 300)\n",
      "Advanced(50, 250) 2034.4520857142159 742.1120857142155 1826.688 0.8914\n",
      "\n",
      "Advanced(50, 300)\n",
      "Advanced(50, 350)\n",
      "Advanced(50, 300) 2092.3751914285904 826.2151914285896 2033.7327 0.8936\n",
      "\n",
      "Test with minimal cost is Advanced(50, 250), with total_costs €2034.4520857142159, costs €742.1120857142155, time 1826.688 and accuracy 0.8914\n"
     ]
    }
   ],
   "source": [
    "test_advanced_tests(alt_f, advanced)"
   ]
  },
  {
   "cell_type": "code",
   "execution_count": 23,
   "metadata": {},
   "outputs": [
    {
     "name": "stdout",
     "output_type": "stream",
     "text": [
      "Advanced False (0, 100)\n",
      "Advanced False (0, 150)\n",
      "Advanced False (0, 150) 4285.311631428605 428.5216314286041 1054.7806 0.6759\n",
      "\n",
      "Advanced False (0, 150)\n",
      "Advanced False (0, 200)\n",
      "Advanced False (0, 200) 3970.720717142838 511.3907171428387 1258.7874 0.7093\n",
      "\n",
      "Advanced False (0, 200)\n",
      "Advanced False (0, 250)\n",
      "Advanced False (0, 250) 3650.7899171428244 578.2099171428247 1423.3492 0.7418\n",
      "\n",
      "Advanced False (0, 250)\n",
      "Advanced False (0, 300)\n",
      "Advanced False (0, 300) 3464.5161571428516 650.166157142851 1600.5279 0.7635\n",
      "\n",
      "Advanced False (0, 300)\n",
      "Advanced False (0, 350)\n",
      "Advanced False (0, 350) 3284.7231742856934 707.1831742856936 1740.939 0.7834\n",
      "\n",
      "Advanced False (0, 350)\n",
      "Advanced False (50, 100)\n",
      "Advanced False (0, 350) 3333.6830342856933 713.303034285694 1756.0078 0.7798\n",
      "\n",
      "Advanced False (50, 100)\n",
      "Advanced False (50, 150)\n",
      "Advanced False (50, 150) 5414.125020000062 533.9350200000615 1314.3199 0.5899\n",
      "\n",
      "Advanced False (50, 150)\n",
      "Advanced False (50, 200)\n",
      "Advanced False (50, 200) 5054.3958999999595 646.6358999999607 1591.6863 0.6296\n",
      "\n",
      "Advanced False (50, 200)\n",
      "Advanced False (50, 250)\n",
      "Advanced False (50, 250) 4391.424914285642 741.6949142856429 1825.6466 0.6933\n",
      "\n",
      "Advanced False (50, 250)\n",
      "Advanced False (50, 300)\n",
      "Advanced False (50, 300) 4021.104960000016 824.7649600000169 2030.1735 0.7314\n",
      "\n",
      "Advanced False (50, 300)\n",
      "Advanced False (50, 350)\n",
      "Advanced False (50, 350) 3810.3460228571157 900.7960228571152 2217.3705 0.7555\n",
      "\n",
      "Test with minimal cost is Advanced False (0, 350), with total_costs €3284.7231742856934, costs €707.1831742856936, time 1740.939 and accuracy 0.7834\n"
     ]
    }
   ],
   "source": [
    "test_advanced_tests(alt_f, advanced_false)"
   ]
  },
  {
   "cell_type": "code",
   "execution_count": 24,
   "metadata": {},
   "outputs": [
    {
     "name": "stdout",
     "output_type": "stream",
     "text": [
      "Advanced True (0, 100)\n",
      "Advanced True (0, 150)\n",
      "Advanced True (0, 150) 3070.038402857177 424.6684028571765 1045.281 0.7777\n",
      "\n",
      "Advanced True (0, 150)\n",
      "Advanced True (0, 200)\n",
      "Advanced True (0, 200) 2956.491608571407 508.6616085714074 1252.0952 0.7943\n",
      "\n",
      "Advanced True (0, 200)\n",
      "Advanced True (0, 250)\n",
      "Advanced True (0, 200) 2879.221514285696 509.9315142856949 1255.2318 0.8009\n",
      "\n",
      "Advanced True (0, 250)\n",
      "Advanced True (0, 300)\n",
      "Advanced True (0, 300) 2843.587685714279 648.0376857142786 1595.2743 0.8155\n",
      "\n",
      "Advanced True (0, 300)\n",
      "Advanced True (0, 350)\n",
      "Advanced True (0, 300) 2775.26114571428 639.2111457142801 1573.6006 0.8205\n",
      "\n",
      "Advanced True (0, 350)\n",
      "Advanced True (50, 100)\n",
      "Advanced True (0, 350) 2794.671139999977 718.1211399999773 1767.9285 0.8255\n",
      "\n",
      "Advanced True (50, 100)\n",
      "Advanced True (50, 150)\n",
      "Advanced True (50, 150) 2763.3065228572054 534.4365228572052 1315.5355 0.8127\n",
      "\n",
      "Advanced True (50, 150)\n",
      "Advanced True (50, 200)\n",
      "Advanced True (50, 200) 2658.801317142817 648.8913171428163 1597.2466 0.8311\n",
      "\n",
      "Advanced True (50, 200)\n",
      "Advanced True (50, 250)\n",
      "Advanced True (50, 250) 2594.0450028570735 742.4050028570742 1827.4127 0.8444\n",
      "\n",
      "Advanced True (50, 250)\n",
      "Advanced True (50, 300)\n",
      "Advanced True (50, 300) 2531.2272028571565 824.7672028571569 2030.1607 0.8566\n",
      "\n",
      "Advanced True (50, 300)\n",
      "Advanced True (50, 350)\n",
      "Advanced True (50, 300) 2615.294888571444 829.1048885714441 2040.823 0.8499\n",
      "\n",
      "Test with minimal cost is Advanced True (50, 300), with total_costs €2531.2272028571565, costs €824.7672028571569, time 2030.1607 and accuracy 0.8566\n"
     ]
    }
   ],
   "source": [
    "test_advanced_tests(alt_f, advanced_true)"
   ]
  },
  {
   "cell_type": "markdown",
   "metadata": {},
   "source": [
    "Test with minimal cost is Advanced(50, 200), with total_costs €2044.945171428528, costs €647.8851714285286, time 1594.7338 and accuracy 0.8826"
   ]
  },
  {
   "cell_type": "code",
   "execution_count": null,
   "metadata": {},
   "outputs": [],
   "source": [
    "runtime = 394.15\n",
    "days = runtime // (24 * 60)\n",
    "hours = (runtime % (24 * 60)) // 60\n",
    "minutes = (runtime % (24 * 60)) % 60\n",
    "days, hours, minutes"
   ]
  },
  {
   "cell_type": "code",
   "execution_count": null,
   "metadata": {
    "collapsed": true
   },
   "outputs": [],
   "source": []
  }
 ],
 "metadata": {
  "kernelspec": {
   "display_name": "Python 3",
   "language": "python",
   "name": "python3"
  },
  "language_info": {
   "codemirror_mode": {
    "name": "ipython",
    "version": 3
   },
   "file_extension": ".py",
   "mimetype": "text/x-python",
   "name": "python",
   "nbconvert_exporter": "python",
   "pygments_lexer": "ipython3",
   "version": "3.6.7"
  }
 },
 "nbformat": 4,
 "nbformat_minor": 2
}
