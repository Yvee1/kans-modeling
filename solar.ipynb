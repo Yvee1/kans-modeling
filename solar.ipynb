{
 "cells": [
  {
   "cell_type": "code",
   "execution_count": 1,
   "metadata": {
    "collapsed": true
   },
   "outputs": [],
   "source": [
    "import numpy as np\n",
    "from scipy.stats import truncnorm, norm, binom, rv_continuous\n",
    "import matplotlib.pyplot as plt\n",
    "import random\n",
    "import math"
   ]
  },
  {
   "cell_type": "code",
   "execution_count": 2,
   "metadata": {
    "collapsed": true
   },
   "outputs": [],
   "source": [
    "cutoff = 0.95 # The European norm for the required accuracy of the machine"
   ]
  },
  {
   "cell_type": "markdown",
   "metadata": {},
   "source": [
    "# Classes"
   ]
  },
  {
   "cell_type": "code",
   "execution_count": 3,
   "metadata": {
    "collapsed": true
   },
   "outputs": [],
   "source": [
    "class Wafer:\n",
    "    pass"
   ]
  },
  {
   "cell_type": "code",
   "execution_count": 4,
   "metadata": {
    "collapsed": true
   },
   "outputs": [],
   "source": [
    "class SolarCell:\n",
    "    def __init__(self, working):\n",
    "        self.working = working"
   ]
  },
  {
   "cell_type": "code",
   "execution_count": 5,
   "metadata": {
    "collapsed": true
   },
   "outputs": [],
   "source": [
    "class Machine:\n",
    "    runtime = 0  #In Minutes\n",
    "    costs = 0\n",
    "    \n",
    "    def __init__(self, p):  #Constructor\n",
    "        \"\"\"Make machine with probability p of turning a wafer into a working cell.\"\"\"\n",
    "        self.p = p\n",
    "    \n",
    "    def deposit(self, wafer):\n",
    "        \"\"\"Deposit a Wafer, returns a SolarCell\"\"\"\n",
    "        self.runtime += 9    #9 minutes per deposition per wafer\n",
    "        self.costs += 2 + 87/35  #It costs €2 to do a deposition. Wafers have a base cost of €87, but can be re-used 35 times\n",
    "        working = random.random() < self.p \n",
    "        \n",
    "        return SolarCell(working)\n",
    "    \n",
    "    def diagnosis(self, cell):\n",
    "        \"\"\"Diagnose a SolarCell, returns whether the cell works\"\"\"\n",
    "        self.runtime += 2 if cell.working else 3  # Diagnosis costs 2 minutes if the created cell works, 3 minutes otherwise\n",
    "        return cell.working\n",
    "    \n",
    "    def test_basic(self, n):\n",
    "        \"\"\"Test the machine n times and return the ratio of working cells\"\"\"\n",
    "        wafers = n * [Wafer()] # Create list of n Wafer() objects\n",
    "        cells = list(map(self.deposit, wafers)) # Deposit all wafers\n",
    "        working_cells = list(filter(self.diagnosis, cells)) # Make list of working cells\n",
    "        return len(working_cells)/len(cells) # Determine ratio of the amount of working cells and total cells \n",
    "    \n",
    "    def get_stats(self):\n",
    "        \"\"\"Pretty print the status of machine.\"\"\"\n",
    "        days = self.runtime // (24 * 60)\n",
    "        hours = (self.runtime % (24 * 60)) // 60\n",
    "        minutes = (self.runtime % (24 * 60)) % 60\n",
    "        rcosts = round(self.costs, 2)\n",
    "        \n",
    "        print(\"Actual accuracy of machine:\", self.p)\n",
    "        print(\"It takes\", days, \"day(s),\", hours, \"hour(s) and\", minutes, \"minute(s) to test.\")\n",
    "        print(\"The costs associated with this test method is €\" + str(rcosts))\n",
    "        \n",
    "    def reset(self):\n",
    "        \"\"\"Reset the machine.\"\"\"\n",
    "        self.runtime = 0\n",
    "        self.costs = 0\n",
    "        \n",
    "    def plot_pmf(self, n):\n",
    "        \"\"\"Plot the probability of each estimation of p resulting from n tests.\"\"\"\n",
    "        fig, ax = plt.subplots(1, 1)\n",
    "        x = np.arange(binom.ppf(0.001, n, self.p), n+1)\n",
    "        ax.plot(x/n, binom.pmf(x, n, self.p), 'bo', ms=8, label='binom pmf')\n",
    "        ax.vlines(x/n, 0, binom.pmf(x, n, self.p), colors='b', lw=5, alpha=0.5)\n",
    "        ax.axvline(x = self.p, color='g')\n",
    "        ax.set_xlabel(\"estimated p\")\n",
    "        ax.set_ylabel(\"probability\")\n",
    "        plt.show()\n",
    "        \n",
    "    def plot_cdf(self, n):\n",
    "        \"\"\"Plot cdf of estimation of p resulting from n tests.\"\"\"\n",
    "        fig, ax = plt.subplots(1, 1)\n",
    "        x = np.arange(binom.ppf(0.001, n, self.p), n+1)\n",
    "        ax.plot(x/n, binom.cdf(x, n, self.p), 'bo', ms=8, label='binom pmf')\n",
    "        ax.vlines(x/n, 0, binom.cdf(x, n, self.p), colors='b', lw=5, alpha=0.5)\n",
    "        ax.axvline(x = self.p, color='g')\n",
    "        ax.set_xlabel(\"estimated p\")\n",
    "        ax.set_ylabel(\"cumulative density function\")\n",
    "        plt.show()\n",
    "\n",
    "    # Testing with variable number of tests\n",
    "    def test_advanced_95(self, max_tests):\n",
    "        \"\"\"Test the machine until it is 95% certain that the machine works or we reached the maximum number of tests.\n",
    "        Maximum number of tests is given by max_tests.\n",
    "        \"\"\"\n",
    "        successes = 0\n",
    "        p_ = 1\n",
    "        min_tests = 50\n",
    "        \n",
    "        if max_tests < min_tests:\n",
    "            min_tests = max_tests\n",
    "\n",
    "        for n in range(1, min_tests):\n",
    "            if self.diagnosis(self.deposit(Wafer())):\n",
    "                successes += 1\n",
    "            p_ = successes / n\n",
    "        \n",
    "        for n in range(min_tests + 1, max_tests + 1):\n",
    "            if self.diagnosis(self.deposit(Wafer())):\n",
    "                successes += 1\n",
    "            p_ = successes / n\n",
    "            \n",
    "            (left, right) = Machine.wilson_score_interval_95(p_, n)\n",
    "            \n",
    "            if (left > cutoff and right > cutoff):\n",
    "                return (p_, n)\n",
    "            \n",
    "            if (left < cutoff and right < cutoff):\n",
    "                return (p_, n)\n",
    "                   \n",
    "        return (p_, n)\n",
    "    \n",
    "    def calculate_interval(certainty, p_, n):\n",
    "        \"\"\"Incorrect implementation, use wilson_score_interval_95 instead\"\"\"\n",
    "        error = (1 - certainty) / 2\n",
    "        \n",
    "        # Bounds expressed in successes\n",
    "        leftS = binom.ppf(error, n, p_)\n",
    "        rightS = binom.ppf(1 - error, n, p_)\n",
    "        \n",
    "        # Express in p_\n",
    "        return (leftS / n, rightS / n)\n",
    "\n",
    "    \n",
    "    def wilson_score_interval_95(p_, n):\n",
    "        \"\"\"Returns (the Wilson approximation of) the interval such that it is 95% certain that after n tests\n",
    "        the actual probability of the machine lies in this interval\"\"\"\n",
    "        # From https://en.wikipedia.org/wiki/Binomial_proportion_confidence_interval\n",
    "        z = 1.96 # for 95% confidence\n",
    "        \n",
    "        base = (p_ + z**2/(2*n))/(1+z**2/n)\n",
    "        spread = z/(1+z**2/n) * math.sqrt((p_*(1-p_))/n + z**2/(4*n**2))\n",
    "        \n",
    "        left = base - spread\n",
    "        right = base + spread\n",
    "        \n",
    "        return (left, right)\n",
    "        \n",
    "    def procedure_basic(self, n):\n",
    "        \"\"\"This basic procedure uses the test_basic to approximate the accuracy of the machine.\n",
    "        The basic test takes n wafers and returns the ratio (=p_) of working wafers\"\"\"\n",
    "        return self.test_basic(n) >= cutoff\n",
    "    \n",
    "    def procedure_advanced_95(self, max_tests):\n",
    "        \"\"\"This procedure uses test_advanced to approximate the accuracy of the machine.\"\"\"\n",
    "        (p_, n) = self.test_advanced_95(max_tests)\n",
    "        return p_ >= cutoff\n",
    "    \n",
    "    def procedure_trivial(self):\n",
    "        # This testing procedure basically doesn't test, but accepts all machines\n",
    "        # Used for cost computation purposes\n",
    "        return True\n"
   ]
  },
  {
   "cell_type": "code",
   "execution_count": 6,
   "metadata": {
    "collapsed": true
   },
   "outputs": [],
   "source": [
    "class double_trunc_norm_gen(rv_continuous):\n",
    "    # Doesn't work for generating rvs, but still useful for plotting\n",
    "    \"Double truncated normal\"\n",
    "    def _pdf(self, x, mu1, sigma1, mu2, sigma2, step):\n",
    "        return step * truncnorm.pdf(x, -mu1 / sigma1, (1 - mu1) / sigma1, loc=mu1, scale=sigma1) \\\n",
    "             + (1-step) * truncnorm.pdf(x, -mu2 / sigma2, (1 - mu2) / sigma2, loc=mu2, scale=sigma2)"
   ]
  },
  {
   "cell_type": "code",
   "execution_count": 7,
   "metadata": {
    "collapsed": true
   },
   "outputs": [],
   "source": [
    "double_trunc_norm = double_trunc_norm_gen(name=\"double truncated normal\")"
   ]
  },
  {
   "cell_type": "code",
   "execution_count": 8,
   "metadata": {
    "collapsed": true
   },
   "outputs": [],
   "source": [
    "class Factory:\n",
    "    def __init__(self, mu, sigma):\n",
    "        \"\"\"Factory that makes a machine with accuracies normally distributed.\"\"\"\n",
    "        self.mu = mu\n",
    "        self.sigma = sigma\n",
    "        \n",
    "    def makeMachines(self, n):\n",
    "        \"\"\"Make machine\"\"\"\n",
    "        ps = truncnorm(-self.mu / self.sigma, (1 - self.mu) / self.sigma, loc=self.mu, scale=self.sigma).rvs(n)\n",
    "        return map(Machine, ps)\n",
    "    \n",
    "    def makeMachine(self):\n",
    "        return self.makeMachines(1)[0]\n",
    "    \n",
    "    def test_testing_procedure(self, procedure, n): #onhandige naam maarja...\n",
    "        \"\"\"Test a procedure on machines normally distributed with mu sigma (truncated) n times.\n",
    "        Procedure is a function that takes a machine and returns whether the machine works correctly.\"\"\"\n",
    "        successes = 0\n",
    "        costs = 0\n",
    "        time = 0\n",
    "        \n",
    "        machines = self.makeMachines(n)\n",
    "\n",
    "        for m in machines:\n",
    "            # if procedure gives correct result\n",
    "            if procedure(m) == (m.p >= cutoff):\n",
    "                successes += 1\n",
    "\n",
    "            costs += m.costs\n",
    "            time += m.runtime\n",
    "\n",
    "        costs /= n\n",
    "        time /= n\n",
    "\n",
    "        print(f\"Testing procedure was accurate {successes/n*100}% of the time.\")\n",
    "\n",
    "        days = time // (24 * 60)\n",
    "        hours = (time % (24 * 60)) // 60\n",
    "        minutes = (time % (24 * 60)) % 60\n",
    "        rcosts = round(costs, 2)\n",
    "\n",
    "        print(\"Test procedure took on average \", days, \"day(s),\", hours, \"hour(s) and\", minutes, \"minute(s).\")\n",
    "        print(\"The costs associated with this test procedure is on average €\" + str(rcosts))"
   ]
  },
  {
   "cell_type": "code",
   "execution_count": 9,
   "metadata": {},
   "outputs": [],
   "source": [
    "class AltFactory(Factory):\n",
    "    def __init__(self, mu1, sigma1, mu2, sigma2, step):\n",
    "        \"\"\"Factory that makes a machine with accuracies taken from two normal distributions, truncated between 0 and 1.\n",
    "        With probability step from a truncated normal distribution around mu1 with deviation sigma1.\n",
    "        With probability 1-step from a truncated normal distribution around mu2 with deviation sigma2.\n",
    "        \"\"\"\n",
    "        self.mu1 = mu1\n",
    "        self.sigma1 = sigma1\n",
    "        self.mu2 = mu2\n",
    "        self.sigma2 = sigma2\n",
    "        self.step = step\n",
    "        \n",
    "    def makeMachines(self, n):\n",
    "        \"\"\"Make machine\"\"\"\n",
    "        if random.random() < self.step:\n",
    "            mu = self.mu1\n",
    "            sigma = self.sigma1\n",
    "        else:\n",
    "            mu = self.mu2\n",
    "            sigma = self.sigma2\n",
    "        ps = truncnorm(-mu / sigma, (1 - mu) / sigma, loc=mu, scale=sigma).rvs(n)\n",
    "        return map(Machine, ps)"
   ]
  },
  {
   "cell_type": "markdown",
   "metadata": {},
   "source": [
    "# Playground"
   ]
  },
  {
   "cell_type": "code",
   "execution_count": 10,
   "metadata": {},
   "outputs": [],
   "source": [
    "m = Machine(0.963)"
   ]
  },
  {
   "cell_type": "code",
   "execution_count": 11,
   "metadata": {},
   "outputs": [
    {
     "name": "stdout",
     "output_type": "stream",
     "text": [
      "Projected accuracy of machine: 0.97\n",
      "Actual accuracy of machine: 0.963\n",
      "It takes 0 day(s), 18 hour(s) and 23 minute(s) to test.\n",
      "The costs associated with this test method is €448.57\n"
     ]
    }
   ],
   "source": [
    "p_ = m.test_basic(100)\n",
    "print(\"Projected accuracy of machine:\", p_)\n",
    "m.get_stats()\n",
    "m.reset()"
   ]
  },
  {
   "cell_type": "code",
   "execution_count": 12,
   "metadata": {},
   "outputs": [
    {
     "data": {
      "image/png": "[encoded data removed]",
      "text/plain": [
       "<matplotlib.figure.Figure at 0x245d3fd54e0>"
      ]
     },
     "metadata": {},
     "output_type": "display_data"
    }
   ],
   "source": [
    "m.plot_pmf(200)"
   ]
  },
  {
   "cell_type": "code",
   "execution_count": 13,
   "metadata": {},
   "outputs": [
    {
     "data": {
      "image/png": "[encoded data removed]",
      "text/plain": [
       "<matplotlib.figure.Figure at 0x245d40cf9b0>"
      ]
     },
     "metadata": {},
     "output_type": "display_data"
    }
   ],
   "source": [
    "m.plot_cdf(200)"
   ]
  },
  {
   "cell_type": "code",
   "execution_count": 14,
   "metadata": {
    "scrolled": true
   },
   "outputs": [
    {
     "name": "stdout",
     "output_type": "stream",
     "text": [
      "(0.9230769230769231, 26)\n"
     ]
    }
   ],
   "source": [
    "print(m.test_advanced_95(27))\n",
    "m.reset()"
   ]
  },
  {
   "cell_type": "markdown",
   "metadata": {},
   "source": [
    "---"
   ]
  },
  {
   "cell_type": "code",
   "execution_count": 15,
   "metadata": {},
   "outputs": [
    {
     "data": {
      "text/plain": [
       "(0.9510959078150344, 0.9817369507659165)"
      ]
     },
     "execution_count": 15,
     "metadata": {},
     "output_type": "execute_result"
    }
   ],
   "source": [
    "Machine.wilson_score_interval_95(0.97, 500)"
   ]
  },
  {
   "cell_type": "code",
   "execution_count": 16,
   "metadata": {},
   "outputs": [
    {
     "data": {
      "text/plain": [
       "(0.954, 0.984)"
      ]
     },
     "execution_count": 16,
     "metadata": {},
     "output_type": "execute_result"
    }
   ],
   "source": [
    "Machine.calculate_interval(0.95, 0.97, 500)"
   ]
  },
  {
   "cell_type": "markdown",
   "metadata": {},
   "source": [
    "Nog niet zo'n slechte schatting"
   ]
  },
  {
   "cell_type": "markdown",
   "metadata": {},
   "source": [
    "---"
   ]
  },
  {
   "cell_type": "code",
   "execution_count": 17,
   "metadata": {
    "collapsed": true
   },
   "outputs": [],
   "source": [
    "factory = Factory(0.98, 0.05)"
   ]
  },
  {
   "cell_type": "code",
   "execution_count": 18,
   "metadata": {},
   "outputs": [
    {
     "name": "stdout",
     "output_type": "stream",
     "text": [
      "Testing procedure was accurate 92.95% of the time.\n",
      "Test procedure took on average  3.0 day(s), 20.0 hour(s) and 4.336500000000342 minute(s).\n",
      "The costs associated with this test procedure is on average €2242.86\n"
     ]
    }
   ],
   "source": [
    "factory.test_testing_procedure(lambda m : m.procedure_basic(500), 2000)"
   ]
  },
  {
   "cell_type": "markdown",
   "metadata": {},
   "source": [
    "Als de testing procedure bijvoorbeeld 90% van de keren klopt, is dat een heel **slecht** teken in dit geval. Alle machines goedkeuren bijvoorbeeld zou nog beter zijn, zie hieronder.\n",
    "\n",
    "\n",
    "\n",
    "**Misschien moet de verdeling van de accuracy van de machines iets minder optimistisch?**<br>\n",
    "zo beter?"
   ]
  },
  {
   "cell_type": "code",
   "execution_count": 19,
   "metadata": {},
   "outputs": [
    {
     "name": "stdout",
     "output_type": "stream",
     "text": [
      "Testing procedure was accurate 58.9% of the time.\n",
      "Test procedure took on average  0.0 day(s), 0.0 hour(s) and 0.0 minute(s).\n",
      "The costs associated with this test procedure is on average €0.0\n"
     ]
    }
   ],
   "source": [
    "factory.test_testing_procedure(Machine.procedure_trivial, 2000)"
   ]
  },
  {
   "cell_type": "markdown",
   "metadata": {},
   "source": [
    "---"
   ]
  },
  {
   "cell_type": "code",
   "execution_count": 20,
   "metadata": {},
   "outputs": [
    {
     "data": {
      "image/png": "[encoded data removed]",
      "text/plain": [
       "<matplotlib.figure.Figure at 0x245d4161d30>"
      ]
     },
     "metadata": {},
     "output_type": "display_data"
    }
   ],
   "source": [
    "mu1 = 0.98\n",
    "sigma1 = 0.05\n",
    "mu2 = 0.3\n",
    "sigma2 = 0.2\n",
    "\n",
    "fig, ax = plt.subplots(1, 1)\n",
    "x = np.arange(0, 1.001, 0.001)\n",
    "ax.plot(x, double_trunc_norm.pdf(x, mu1, sigma1, mu2, sigma2, 0.5), label='double truncated normal pmf')\n",
    "ax.set_xlabel(\"machine accuracy\")\n",
    "ax.set_ylabel(\"probability density function\")\n",
    "plt.show()"
   ]
  },
  {
   "cell_type": "code",
   "execution_count": 21,
   "metadata": {},
   "outputs": [],
   "source": [
    "# DOESN'T WORK\n",
    "# double_trunc_norm.ppf(0.1, mu1, sigma1, mu2, sigma2, 0.5)"
   ]
  },
  {
   "cell_type": "markdown",
   "metadata": {},
   "source": [
    "# Proper Testing"
   ]
  },
  {
   "cell_type": "code",
   "execution_count": 22,
   "metadata": {
    "collapsed": true
   },
   "outputs": [],
   "source": [
    "def basic(n):\n",
    "    return lambda m : m.procedure_basic(n)"
   ]
  },
  {
   "cell_type": "code",
   "execution_count": 23,
   "metadata": {
    "collapsed": true
   },
   "outputs": [],
   "source": [
    "def advanced(max_n):\n",
    "    return lambda m : m.procedure_advanced_95(max_n)"
   ]
  },
  {
   "cell_type": "code",
   "execution_count": 24,
   "metadata": {
    "collapsed": true
   },
   "outputs": [],
   "source": [
    "def test(factory):\n",
    "    for n in range(100, 1100, 100):\n",
    "        print(f\"Basic({n})\")\n",
    "        factory.test_testing_procedure(basic(n), 2000)\n",
    "        print()\n",
    "\n",
    "    for n in range(100, 1100, 100):\n",
    "        print(f\"Advanced({n})\")\n",
    "        factory.test_testing_procedure(advanced(n), 2000)\n",
    "        print()\n",
    "\n",
    "    print(\"Trivial\")\n",
    "    factory.test_testing_procedure(Machine.procedure_trivial, 2000)"
   ]
  },
  {
   "cell_type": "code",
   "execution_count": 25,
   "metadata": {},
   "outputs": [
    {
     "name": "stdout",
     "output_type": "stream",
     "text": [
      "Basic(100)\n",
      "Testing procedure was accurate 83.39999999999999% of the time.\n",
      "Test procedure took on average  0.0 day(s), 18.0 hour(s) and 24.82199999999989 minute(s).\n",
      "The costs associated with this test procedure is on average €448.57\n",
      "\n",
      "Basic(200)\n",
      "Testing procedure was accurate 87.7% of the time.\n",
      "Test procedure took on average  1.0 day(s), 12.0 hour(s) and 49.60750000000007 minute(s).\n",
      "The costs associated with this test procedure is on average €897.14\n",
      "\n",
      "Basic(300)\n",
      "Testing procedure was accurate 89.95% of the time.\n",
      "Test procedure took on average  2.0 day(s), 7.0 hour(s) and 14.278999999999996 minute(s).\n",
      "The costs associated with this test procedure is on average €1345.71\n",
      "\n",
      "Basic(400)\n",
      "Testing procedure was accurate 91.25% of the time.\n",
      "Test procedure took on average  3.0 day(s), 1.0 hour(s) and 38.99300000000039 minute(s).\n",
      "The costs associated with this test procedure is on average €1794.29\n",
      "\n",
      "Basic(500)\n",
      "Testing procedure was accurate 92.95% of the time.\n",
      "Test procedure took on average  3.0 day(s), 20.0 hour(s) and 4.432499999999891 minute(s).\n",
      "The costs associated with this test procedure is on average €2242.86\n",
      "\n",
      "Basic(600)\n",
      "Testing procedure was accurate 92.35% of the time.\n",
      "Test procedure took on average  4.0 day(s), 14.0 hour(s) and 28.819499999999607 minute(s).\n",
      "The costs associated with this test procedure is on average €2691.43\n",
      "\n",
      "Basic(700)\n",
      "Testing procedure was accurate 92.9% of the time.\n",
      "Test procedure took on average  5.0 day(s), 8.0 hour(s) and 53.06700000000001 minute(s).\n",
      "The costs associated with this test procedure is on average €3140.0\n",
      "\n",
      "Basic(800)\n",
      "Testing procedure was accurate 93.30000000000001% of the time.\n",
      "Test procedure took on average  6.0 day(s), 3.0 hour(s) and 17.90649999999914 minute(s).\n",
      "The costs associated with this test procedure is on average €3588.57\n",
      "\n",
      "Basic(900)\n",
      "Testing procedure was accurate 94.65% of the time.\n",
      "Test procedure took on average  6.0 day(s), 21.0 hour(s) and 43.798500000000786 minute(s).\n",
      "The costs associated with this test procedure is on average €4037.14\n",
      "\n",
      "Basic(1000)\n",
      "Testing procedure was accurate 94.5% of the time.\n",
      "Test procedure took on average  7.0 day(s), 16.0 hour(s) and 8.38550000000032 minute(s).\n",
      "The costs associated with this test procedure is on average €4485.71\n",
      "\n",
      "Advanced(100)\n",
      "Testing procedure was accurate 84.05% of the time.\n",
      "Test procedure took on average  0.0 day(s), 16.0 hour(s) and 3.056500000000028 minute(s).\n",
      "The costs associated with this test procedure is on average €391.15\n",
      "\n",
      "Advanced(200)\n",
      "Testing procedure was accurate 87.55% of the time.\n",
      "Test procedure took on average  1.0 day(s), 2.0 hour(s) and 15.215999999999894 minute(s).\n",
      "The costs associated with this test procedure is on average €639.91\n",
      "\n",
      "Advanced(300)\n",
      "Testing procedure was accurate 89.75% of the time.\n",
      "Test procedure took on average  1.0 day(s), 10.0 hour(s) and 56.489500000000135 minute(s).\n",
      "The costs associated with this test procedure is on average €851.86\n",
      "\n",
      "Advanced(400)\n",
      "Testing procedure was accurate 90.2% of the time.\n",
      "Test procedure took on average  1.0 day(s), 15.0 hour(s) and 26.13050000000021 minute(s).\n",
      "The costs associated with this test procedure is on average €961.21\n",
      "\n",
      "Advanced(500)\n",
      "Testing procedure was accurate 90.75% of the time.\n",
      "Test procedure took on average  1.0 day(s), 20.0 hour(s) and 11.532999999999902 minute(s).\n",
      "The costs associated with this test procedure is on average €1077.12\n",
      "\n",
      "Advanced(600)\n",
      "Testing procedure was accurate 90.25% of the time.\n",
      "Test procedure took on average  2.0 day(s), 2.0 hour(s) and 20.207499999999982 minute(s).\n",
      "The costs associated with this test procedure is on average €1226.82\n",
      "\n",
      "Advanced(700)\n",
      "Testing procedure was accurate 91.75% of the time.\n",
      "Test procedure took on average  2.0 day(s), 6.0 hour(s) and 5.699999999999818 minute(s).\n",
      "The costs associated with this test procedure is on average €1318.48\n",
      "\n",
      "Advanced(800)\n",
      "Testing procedure was accurate 92.80000000000001% of the time.\n",
      "Test procedure took on average  2.0 day(s), 9.0 hour(s) and 32.55000000000018 minute(s).\n",
      "The costs associated with this test procedure is on average €1402.44\n",
      "\n",
      "Advanced(900)\n",
      "Testing procedure was accurate 93.25% of the time.\n",
      "Test procedure took on average  2.0 day(s), 10.0 hour(s) and 18.18600000000015 minute(s).\n",
      "The costs associated with this test procedure is on average €1420.93\n",
      "\n",
      "Advanced(1000)\n",
      "Testing procedure was accurate 93.85% of the time.\n",
      "Test procedure took on average  2.0 day(s), 14.0 hour(s) and 25.197999999999865 minute(s).\n",
      "The costs associated with this test procedure is on average €1521.25\n",
      "\n",
      "Trivial\n",
      "Testing procedure was accurate 58.599999999999994% of the time.\n",
      "Test procedure took on average  0.0 day(s), 0.0 hour(s) and 0.0 minute(s).\n",
      "The costs associated with this test procedure is on average €0.0\n"
     ]
    }
   ],
   "source": [
    "test(Factory(0.98, 0.05))"
   ]
  },
  {
   "cell_type": "code",
   "execution_count": 26,
   "metadata": {},
   "outputs": [
    {
     "name": "stdout",
     "output_type": "stream",
     "text": [
      "Basic(100)\n",
      "Testing procedure was accurate 100.0% of the time.\n",
      "Test procedure took on average  0.0 day(s), 19.0 hour(s) and 27.808500000000095 minute(s).\n",
      "The costs associated with this test procedure is on average €448.57\n",
      "\n",
      "Basic(200)\n",
      "Testing procedure was accurate 87.2% of the time.\n",
      "Test procedure took on average  1.0 day(s), 12.0 hour(s) and 49.751000000000204 minute(s).\n",
      "The costs associated with this test procedure is on average €897.14\n",
      "\n",
      "Basic(300)\n",
      "Testing procedure was accurate 90.75% of the time.\n",
      "Test procedure took on average  2.0 day(s), 7.0 hour(s) and 13.883499999999913 minute(s).\n",
      "The costs associated with this test procedure is on average €1345.71\n",
      "\n",
      "Basic(400)\n",
      "Testing procedure was accurate 92.10000000000001% of the time.\n",
      "Test procedure took on average  3.0 day(s), 1.0 hour(s) and 39.68549999999959 minute(s).\n",
      "The costs associated with this test procedure is on average €1794.29\n",
      "\n",
      "Basic(500)\n",
      "Testing procedure was accurate 92.30000000000001% of the time.\n",
      "Test procedure took on average  3.0 day(s), 20.0 hour(s) and 3.643000000000029 minute(s).\n",
      "The costs associated with this test procedure is on average €2242.86\n",
      "\n",
      "Basic(600)\n",
      "Testing procedure was accurate 92.15% of the time.\n",
      "Test procedure took on average  4.0 day(s), 14.0 hour(s) and 27.65849999999955 minute(s).\n",
      "The costs associated with this test procedure is on average €2691.43\n",
      "\n",
      "Basic(700)\n",
      "Testing procedure was accurate 92.9% of the time.\n",
      "Test procedure took on average  5.0 day(s), 8.0 hour(s) and 53.67150000000038 minute(s).\n",
      "The costs associated with this test procedure is on average €3140.0\n",
      "\n",
      "Basic(800)\n",
      "Testing procedure was accurate 94.6% of the time.\n",
      "Test procedure took on average  6.0 day(s), 3.0 hour(s) and 18.974500000000262 minute(s).\n",
      "The costs associated with this test procedure is on average €3588.57\n",
      "\n",
      "Basic(900)\n",
      "Testing procedure was accurate 93.75% of the time.\n",
      "Test procedure took on average  6.0 day(s), 21.0 hour(s) and 43.360500000000684 minute(s).\n",
      "The costs associated with this test procedure is on average €4037.14\n",
      "\n",
      "Basic(1000)\n",
      "Testing procedure was accurate 94.5% of the time.\n",
      "Test procedure took on average  7.0 day(s), 16.0 hour(s) and 9.28900000000067 minute(s).\n",
      "The costs associated with this test procedure is on average €4485.71\n",
      "\n",
      "Advanced(100)\n",
      "Testing procedure was accurate 84.2% of the time.\n",
      "Test procedure took on average  0.0 day(s), 16.0 hour(s) and 9.673000000000002 minute(s).\n",
      "The costs associated with this test procedure is on average €393.88\n",
      "\n",
      "Advanced(200)\n",
      "Testing procedure was accurate 89.1% of the time.\n",
      "Test procedure took on average  1.0 day(s), 2.0 hour(s) and 26.50299999999993 minute(s).\n",
      "The costs associated with this test procedure is on average €644.63\n",
      "\n",
      "Advanced(300)\n",
      "Testing procedure was accurate 90.5% of the time.\n",
      "Test procedure took on average  1.0 day(s), 10.0 hour(s) and 16.54599999999982 minute(s).\n",
      "The costs associated with this test procedure is on average €835.53\n",
      "\n",
      "Advanced(400)\n",
      "Testing procedure was accurate 89.75% of the time.\n",
      "Test procedure took on average  1.0 day(s), 14.0 hour(s) and 51.67900000000009 minute(s).\n",
      "The costs associated with this test procedure is on average €947.21\n",
      "\n",
      "Advanced(500)\n",
      "Testing procedure was accurate 91.9% of the time.\n",
      "Test procedure took on average  1.0 day(s), 20.0 hour(s) and 8.318499999999858 minute(s).\n",
      "The costs associated with this test procedure is on average €1075.84\n",
      "\n",
      "Advanced(600)\n",
      "Testing procedure was accurate 92.65% of the time.\n",
      "Test procedure took on average  2.0 day(s), 0.0 hour(s) and 2.218499999999949 minute(s).\n",
      "The costs associated with this test procedure is on average €1170.86\n",
      "\n",
      "Advanced(700)\n",
      "Testing procedure was accurate 92.9% of the time.\n",
      "Test procedure took on average  2.0 day(s), 4.0 hour(s) and 51.42000000000007 minute(s).\n",
      "The costs associated with this test procedure is on average €1288.28\n",
      "\n",
      "Advanced(800)\n",
      "Testing procedure was accurate 92.10000000000001% of the time.\n",
      "Test procedure took on average  2.0 day(s), 7.0 hour(s) and 23.76800000000003 minute(s).\n",
      "The costs associated with this test procedure is on average €1350.09\n",
      "\n",
      "Advanced(900)\n",
      "Testing procedure was accurate 93.25% of the time.\n",
      "Test procedure took on average  2.0 day(s), 10.0 hour(s) and 38.396999999999935 minute(s).\n",
      "The costs associated with this test procedure is on average €1429.24\n",
      "\n",
      "Advanced(1000)\n",
      "Testing procedure was accurate 93.65% of the time.\n",
      "Test procedure took on average  2.0 day(s), 12.0 hour(s) and 28.24499999999989 minute(s).\n",
      "The costs associated with this test procedure is on average €1473.78\n",
      "\n",
      "Trivial\n",
      "Testing procedure was accurate 57.25% of the time.\n",
      "Test procedure took on average  0.0 day(s), 0.0 hour(s) and 0.0 minute(s).\n",
      "The costs associated with this test procedure is on average €0.0\n"
     ]
    }
   ],
   "source": [
    "test(AltFactory(0.98, 0.05, 0.3, 0.2, 0.98))"
   ]
  },
  {
   "cell_type": "code",
   "execution_count": null,
   "metadata": {
    "collapsed": true
   },
   "outputs": [],
   "source": []
  }
 ],
 "metadata": {
  "kernelspec": {
   "display_name": "Python 3",
   "language": "python",
   "name": "python3"
  },
  "language_info": {
   "codemirror_mode": {
    "name": "ipython",
    "version": 3
   },
   "file_extension": ".py",
   "mimetype": "text/x-python",
   "name": "python",
   "nbconvert_exporter": "python",
   "pygments_lexer": "ipython3",
   "version": "3.6.7"
  }
 },
 "nbformat": 4,
 "nbformat_minor": 2
}
