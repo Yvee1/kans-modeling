{
 "cells": [
  {
   "cell_type": "code",
   "execution_count": 1,
   "metadata": {
    "collapsed": true
   },
   "outputs": [],
   "source": [
    "import numpy as np\n",
    "from scipy.stats import truncnorm, norm, binom, rv_continuous\n",
    "import matplotlib.pyplot as plt\n",
    "import random\n",
    "import math"
   ]
  },
  {
   "cell_type": "markdown",
   "metadata": {},
   "source": [
    "# Constants & Assumptions"
   ]
  },
  {
   "cell_type": "code",
   "execution_count": 2,
   "metadata": {
    "collapsed": true
   },
   "outputs": [],
   "source": [
    "cutoff = 0.95 # The European norm for the required accuracy of the machine"
   ]
  },
  {
   "cell_type": "code",
   "execution_count": 3,
   "metadata": {
    "collapsed": true
   },
   "outputs": [],
   "source": [
    "price = 119000 # in €, price of machine"
   ]
  },
  {
   "cell_type": "code",
   "execution_count": 4,
   "metadata": {
    "collapsed": true
   },
   "outputs": [],
   "source": [
    "cost_of_failing = price / 10 # Price company has to pay of delivering a machine that doesn't satisfy European norm"
   ]
  },
  {
   "cell_type": "code",
   "execution_count": 5,
   "metadata": {
    "collapsed": true
   },
   "outputs": [],
   "source": [
    "cost_of_failing = 0"
   ]
  },
  {
   "cell_type": "markdown",
   "metadata": {},
   "source": [
    "# Classes"
   ]
  },
  {
   "cell_type": "code",
   "execution_count": 6,
   "metadata": {
    "collapsed": true
   },
   "outputs": [],
   "source": [
    "class Wafer:\n",
    "    pass"
   ]
  },
  {
   "cell_type": "code",
   "execution_count": 7,
   "metadata": {
    "collapsed": true
   },
   "outputs": [],
   "source": [
    "class SolarCell:\n",
    "    def __init__(self, working):\n",
    "        self.working = working"
   ]
  },
  {
   "cell_type": "code",
   "execution_count": 8,
   "metadata": {
    "collapsed": true
   },
   "outputs": [],
   "source": [
    "class Machine:\n",
    "    runtime = 0  #In Minutes\n",
    "    costs = 0\n",
    "    \n",
    "    def __init__(self, p):  #Constructor\n",
    "        \"\"\"Make machine with probability p of turning a wafer into a working cell.\"\"\"\n",
    "        self.p = p\n",
    "    \n",
    "    def deposit(self, wafer):\n",
    "        \"\"\"Deposit a Wafer, returns a SolarCell\"\"\"\n",
    "        self.runtime += 9    #9 minutes per deposition per wafer\n",
    "        self.costs += 2 + 87/35  #It costs €2 to do a deposition. Wafers have a base cost of €87, but can be re-used 35 times\n",
    "        working = random.random() < self.p \n",
    "        \n",
    "        return SolarCell(working)\n",
    "    \n",
    "    def diagnosis(self, cell):\n",
    "        \"\"\"Diagnose a SolarCell, returns whether the cell works\"\"\"\n",
    "        self.runtime += 2 if cell.working else 3  # Diagnosis costs 2 minutes if the created cell works, 3 minutes otherwise\n",
    "        return cell.working\n",
    "    \n",
    "    def test_basic(self, n):\n",
    "        \"\"\"Test the machine n times and return the ratio of working cells\"\"\"\n",
    "        wafers = n * [Wafer()] # Create list of n Wafer() objects\n",
    "        cells = list(map(self.deposit, wafers)) # Deposit all wafers\n",
    "        working_cells = list(filter(self.diagnosis, cells)) # Make list of working cells\n",
    "        return len(working_cells)/len(cells) # Determine ratio of the amount of working cells and total cells \n",
    "    \n",
    "    def get_stats(self):\n",
    "        \"\"\"Pretty print the status of machine.\"\"\"\n",
    "        days = self.runtime // (24 * 60)\n",
    "        hours = (self.runtime % (24 * 60)) // 60\n",
    "        minutes = (self.runtime % (24 * 60)) % 60\n",
    "        rcosts = round(self.costs, 2)\n",
    "        \n",
    "        print(\"Actual accuracy of machine:\", self.p)\n",
    "        print(\"It takes\", days, \"day(s),\", hours, \"hour(s) and\", minutes, \"minute(s) to test.\")\n",
    "        print(\"The costs associated with this test method is €\" + str(rcosts))\n",
    "        \n",
    "    def reset(self):\n",
    "        \"\"\"Reset the machine.\"\"\"\n",
    "        self.runtime = 0\n",
    "        self.costs = 0\n",
    "        \n",
    "    def plot_pmf(self, n):\n",
    "        \"\"\"Plot the probability of each estimation of p resulting from n tests.\"\"\"\n",
    "        fig, ax = plt.subplots(1, 1)\n",
    "        x = np.arange(binom.ppf(0.001, n, self.p), n+1)\n",
    "        ax.plot(x/n, binom.pmf(x, n, self.p), 'bo', ms=8, label='binom pmf')\n",
    "        ax.vlines(x/n, 0, binom.pmf(x, n, self.p), colors='b', lw=5, alpha=0.5)\n",
    "        ax.axvline(x = self.p, color='g')\n",
    "        ax.set_xlabel(\"estimated p\")\n",
    "        ax.set_ylabel(\"probability\")\n",
    "        plt.show()\n",
    "        \n",
    "    def plot_cdf(self, n):\n",
    "        \"\"\"Plot cdf of estimation of p resulting from n tests.\"\"\"\n",
    "        fig, ax = plt.subplots(1, 1)\n",
    "        x = np.arange(binom.ppf(0.001, n, self.p), n+1)\n",
    "        ax.plot(x/n, binom.cdf(x, n, self.p), 'bo', ms=8, label='binom pmf')\n",
    "        ax.vlines(x/n, 0, binom.cdf(x, n, self.p), colors='b', lw=5, alpha=0.5)\n",
    "        ax.axvline(x = self.p, color='g')\n",
    "        ax.set_xlabel(\"estimated p\")\n",
    "        ax.set_ylabel(\"cumulative density function\")\n",
    "        plt.show()\n",
    "\n",
    "    # Testing with variable number of tests\n",
    "    def test_advanced_95(self, min_tests, max_tests):\n",
    "        \"\"\"Test the machine until it is 95% certain that the machine works or we reached the maximum number of tests.\n",
    "        Maximum number of tests is given by max_tests.\n",
    "        \"\"\"\n",
    "        successes = 0\n",
    "        p_ = 1\n",
    "        \n",
    "        if max_tests < min_tests:\n",
    "            min_tests = max_tests + 1\n",
    "\n",
    "        for n in range(1, min_tests):\n",
    "            if self.diagnosis(self.deposit(Wafer())):\n",
    "                successes += 1\n",
    "            p_ = successes / n\n",
    "        \n",
    "        for n in range(min_tests + 1, max_tests + 1):\n",
    "            if self.diagnosis(self.deposit(Wafer())):\n",
    "                successes += 1\n",
    "            p_ = successes / n\n",
    "            \n",
    "            (left, right) = Machine.wilson_score_interval_95(p_, n)\n",
    "            \n",
    "            if (left > cutoff and right > cutoff):\n",
    "                return (p_, n)\n",
    "            \n",
    "            if (left < cutoff and right < cutoff):\n",
    "                return (p_, n)\n",
    "                   \n",
    "        return (p_, n)\n",
    "    \n",
    "    def calculate_interval(certainty, p_, n):\n",
    "        \"\"\"Incorrect implementation, use wilson_score_interval_95 instead\"\"\"\n",
    "        error = (1 - certainty) / 2\n",
    "        \n",
    "        # Bounds expressed in successes\n",
    "        leftS = binom.ppf(error, n, p_)\n",
    "        rightS = binom.ppf(1 - error, n, p_)\n",
    "        \n",
    "        # Express in p_\n",
    "        return (leftS / n, rightS / n)\n",
    "\n",
    "    \n",
    "    def wilson_score_interval_95(p_, n):\n",
    "        \"\"\"Returns (the Wilson approximation of) the interval such that it is 95% certain that after n tests\n",
    "        the actual probability of the machine lies in this interval\"\"\"\n",
    "        # From https://en.wikipedia.org/wiki/Binomial_proportion_confidence_interval\n",
    "        z = 1.96 # for 95% confidence\n",
    "        \n",
    "        base = (p_ + z**2/(2*n))/(1+z**2/n)\n",
    "        spread = z/(1+z**2/n) * math.sqrt((p_*(1-p_))/n + z**2/(4*n**2))\n",
    "        \n",
    "        left = base - spread\n",
    "        right = base + spread\n",
    "        \n",
    "        return (left, right)\n",
    "        \n",
    "    def procedure_basic(self, n):\n",
    "        \"\"\"This basic procedure uses the test_basic to approximate the accuracy of the machine.\n",
    "        The basic test takes n wafers and returns the ratio (=p_) of working wafers\"\"\"\n",
    "        return self.test_basic(n) >= cutoff\n",
    "    \n",
    "    def procedure_advanced_95(self, min_tests, max_tests):\n",
    "        \"\"\"This procedure uses test_advanced to approximate the accuracy of the machine.\"\"\"\n",
    "        (p_, n) = self.test_advanced_95(min_tests, max_tests)\n",
    "        return p_ >= cutoff\n",
    "    \n",
    "    def procedure_advanced_95_true(self, min_tests, max_tests):\n",
    "        \"\"\"This procedure uses test_advanced to approximate the accuracy of the machine.\"\"\"\n",
    "        (p_, n) = self.test_advanced_95(min_tests, max_tests)\n",
    "        if n == max_tests:\n",
    "            return True\n",
    "        else: return p_ >= cutoff\n",
    "        \n",
    "    def procedure_advanced_95_false(self, min_tests, max_tests):\n",
    "        \"\"\"This procedure uses test_advanced to approximate the accuracy of the machine.\"\"\"\n",
    "        (p_, n) = self.test_advanced_95(min_tests, max_tests)\n",
    "        if n == max_tests:\n",
    "            return False\n",
    "        else: return p_ >= cutoff\n",
    "    \n",
    "    def procedure_trivial(self):\n",
    "        # This testing procedure basically doesn't test, but accepts all machines\n",
    "        # Used for cost computation purposes\n",
    "        return True\n"
   ]
  },
  {
   "cell_type": "code",
   "execution_count": 9,
   "metadata": {
    "collapsed": true
   },
   "outputs": [],
   "source": [
    "class double_trunc_norm_gen(rv_continuous):\n",
    "    # Doesn't work for generating rvs, but still useful for plotting\n",
    "    \"Double truncated normal\"\n",
    "    def _pdf(self, x, mu1, sigma1, mu2, sigma2, step):\n",
    "        return step * truncnorm.pdf(x, -mu1 / sigma1, (1 - mu1) / sigma1, loc=mu1, scale=sigma1) \\\n",
    "             + (1-step) * truncnorm.pdf(x, -mu2 / sigma2, (1 - mu2) / sigma2, loc=mu2, scale=sigma2)"
   ]
  },
  {
   "cell_type": "code",
   "execution_count": 10,
   "metadata": {
    "collapsed": true
   },
   "outputs": [],
   "source": [
    "double_trunc_norm = double_trunc_norm_gen(name=\"double truncated normal\")"
   ]
  },
  {
   "cell_type": "code",
   "execution_count": 11,
   "metadata": {
    "collapsed": true
   },
   "outputs": [],
   "source": [
    "class Factory:\n",
    "    def __init__(self, mu, sigma):\n",
    "        \"\"\"Factory that makes a machine with accuracies normally distributed.\"\"\"\n",
    "        self.mu = mu\n",
    "        self.sigma = sigma\n",
    "        \n",
    "    def makeMachines(self, n):\n",
    "        \"\"\"Make machine\"\"\"\n",
    "        ps = truncnorm(-self.mu / self.sigma, (1 - self.mu) / self.sigma, loc=self.mu, scale=self.sigma).rvs(n)\n",
    "        return map(Machine, ps)\n",
    "    \n",
    "    def makeMachine(self):\n",
    "        return self.makeMachines(1)[0]\n",
    "    \n",
    "    def test_testing_procedure(self, procedure, n): #onhandige naam maarja...\n",
    "        \"\"\"Test a procedure on machines normally distributed with mu sigma (truncated) n times.\n",
    "        Procedure is a function that takes a machine and returns whether the machine works correctly.\"\"\"\n",
    "        successes = 0\n",
    "        costs = 0\n",
    "        time = 0\n",
    "        \n",
    "        machines = self.makeMachines(n)\n",
    "\n",
    "        for m in machines:\n",
    "            # if procedure gives correct result\n",
    "            if procedure(m) == (m.p >= cutoff):\n",
    "                successes += 1\n",
    "\n",
    "            costs += m.costs\n",
    "            time += m.runtime\n",
    "\n",
    "        costs /= n\n",
    "        time /= n\n",
    "        accuracy = successes / n\n",
    "        \n",
    "        total_costs = costs #+ (1 - accuracy) * cost_of_failing\n",
    "        \n",
    "        return (total_costs, costs, time, accuracy)\n",
    "    \n",
    "    def print_testing_procedure(self, procedure, n):\n",
    "        (total_costs, costs, time, accuracy) = self.test_testing_procedure(procedure, n)\n",
    "        \n",
    "        print(f\"Testing procedure was accurate {accuracy * 100}% of the time.\")\n",
    "\n",
    "        days = time // (24 * 60)\n",
    "        hours = (time % (24 * 60)) // 60\n",
    "        minutes = (time % (24 * 60)) % 60\n",
    "        rcosts = round(costs, 2)\n",
    "        \n",
    "        r_total_costs = round(total_costs, 2)\n",
    "\n",
    "        print(\"Test procedure took on average \", days, \"day(s),\", hours, \"hour(s) and\", minutes, \"minute(s).\")\n",
    "        print(\"The costs associated with this test procedure is on average €\" + str(rcosts))\n",
    "        print(f\"Total costs is on average € {r_total_costs}\")\n",
    "    \n",
    "    def compare_testing_procedures(self, procedure1, procedure2, n):\n",
    "        \"\"\"Get two procedures and return the name, min_costs and min_time of the cheapest one\"\"\"\n",
    "        (total_costs1, costs1, time1, accuracy1) = self.test_testing_procedure(procedure1, n)\n",
    "        (total_costs2, costs2, time2, accuracy2) = self.test_testing_procedure(procedure2, n)\n",
    "\n",
    "        if total_costs1 < total_costs2:\n",
    "            min_total_costs = total_costs1\n",
    "            costs = costs1\n",
    "            time = time1\n",
    "            name = procedure1.__name__\n",
    "            accuracy = accuracy1\n",
    "        else:\n",
    "            min_total_costs = total_costs2\n",
    "            costs = costs2\n",
    "            time = time2\n",
    "            name = procedure2.__name__\n",
    "            accuracy = accuracy2\n",
    "        return (name, min_total_costs, costs, time, accuracy)\n",
    "    \n",
    "    def compare_list_testing_procedures(self, procedures, n):\n",
    "        name = \"\"\n",
    "        min_total_costs = 999999999999999\n",
    "        for i in range(len(procedures)-1):\n",
    "            print(procedures[i].__name__)\n",
    "            print(procedures[i+1].__name__)\n",
    "            (name_, min_total_costs_, costs_, time_, accuracy_) = self.compare_testing_procedures(procedures[i], procedures[i+1], n)\n",
    "            print(name_, min_total_costs_, costs_, time_, accuracy_)\n",
    "            print()\n",
    "            if min_total_costs_ < min_total_costs:\n",
    "                min_total_costs = min_total_costs_\n",
    "                time = time_\n",
    "                costs = costs_\n",
    "                accuracy = accuracy_\n",
    "                name = name_\n",
    "        return (name, min_total_costs, costs, time, accuracy)"
   ]
  },
  {
   "cell_type": "code",
   "execution_count": 12,
   "metadata": {
    "collapsed": true
   },
   "outputs": [],
   "source": [
    "class AltFactory(Factory):\n",
    "    def __init__(self, mu1, sigma1, mu2, sigma2, step):\n",
    "        \"\"\"Factory that makes a machine with accuracies taken from two normal distributions, truncated between 0 and 1.\n",
    "        With probability step from a truncated normal distribution around mu1 with deviation sigma1.\n",
    "        With probability 1-step from a truncated normal distribution around mu2 with deviation sigma2.\n",
    "        \"\"\"\n",
    "        self.mu1 = mu1\n",
    "        self.sigma1 = sigma1\n",
    "        self.mu2 = mu2\n",
    "        self.sigma2 = sigma2\n",
    "        self.step = step\n",
    "        \n",
    "    def makeMachines(self, n):\n",
    "        \"\"\"Make machine\"\"\"\n",
    "        if random.random() < self.step:\n",
    "            mu = self.mu1\n",
    "            sigma = self.sigma1\n",
    "        else:\n",
    "            mu = self.mu2\n",
    "            sigma = self.sigma2\n",
    "        ps = truncnorm(-mu / sigma, (1 - mu) / sigma, loc=mu, scale=sigma).rvs(n)\n",
    "        return map(Machine, ps)"
   ]
  },
  {
   "cell_type": "markdown",
   "metadata": {},
   "source": [
    "# Playground"
   ]
  },
  {
   "cell_type": "code",
   "execution_count": 13,
   "metadata": {
    "collapsed": true
   },
   "outputs": [],
   "source": [
    "m = Machine(0.963)"
   ]
  },
  {
   "cell_type": "code",
   "execution_count": 14,
   "metadata": {},
   "outputs": [
    {
     "name": "stdout",
     "output_type": "stream",
     "text": [
      "Projected accuracy of machine: 0.97\n",
      "Actual accuracy of machine: 0.963\n",
      "It takes 0 day(s), 18 hour(s) and 23 minute(s) to test.\n",
      "The costs associated with this test method is €448.57\n"
     ]
    }
   ],
   "source": [
    "p_ = m.test_basic(100)\n",
    "print(\"Projected accuracy of machine:\", p_)\n",
    "m.get_stats()\n",
    "m.reset()"
   ]
  },
  {
   "cell_type": "code",
   "execution_count": 15,
   "metadata": {},
   "outputs": [
    {
     "data": {
      "image/png": "[encoded data removed]",
      "text/plain": [
       "<matplotlib.figure.Figure at 0x160e7aff630>"
      ]
     },
     "metadata": {},
     "output_type": "display_data"
    }
   ],
   "source": [
    "m.plot_pmf(200)"
   ]
  },
  {
   "cell_type": "code",
   "execution_count": 16,
   "metadata": {},
   "outputs": [
    {
     "data": {
      "image/png": "[encoded data removed]",
      "text/plain": [
       "<matplotlib.figure.Figure at 0x160e7e6eeb8>"
      ]
     },
     "metadata": {},
     "output_type": "display_data"
    }
   ],
   "source": [
    "m.plot_cdf(200)"
   ]
  },
  {
   "cell_type": "code",
   "execution_count": 17,
   "metadata": {
    "scrolled": true
   },
   "outputs": [
    {
     "name": "stdout",
     "output_type": "stream",
     "text": [
      "(1.0, 27)\n"
     ]
    }
   ],
   "source": [
    "print(m.test_advanced_95(30, 27))\n",
    "m.reset()"
   ]
  },
  {
   "cell_type": "markdown",
   "metadata": {},
   "source": [
    "---"
   ]
  },
  {
   "cell_type": "code",
   "execution_count": 18,
   "metadata": {},
   "outputs": [
    {
     "data": {
      "text/plain": [
       "(0.9510959078150344, 0.9817369507659165)"
      ]
     },
     "execution_count": 18,
     "metadata": {},
     "output_type": "execute_result"
    }
   ],
   "source": [
    "Machine.wilson_score_interval_95(0.97, 500)"
   ]
  },
  {
   "cell_type": "code",
   "execution_count": 19,
   "metadata": {},
   "outputs": [
    {
     "data": {
      "text/plain": [
       "(0.954, 0.984)"
      ]
     },
     "execution_count": 19,
     "metadata": {},
     "output_type": "execute_result"
    }
   ],
   "source": [
    "Machine.calculate_interval(0.95, 0.97, 500)"
   ]
  },
  {
   "cell_type": "markdown",
   "metadata": {},
   "source": [
    "Nog niet zo'n slechte schatting"
   ]
  },
  {
   "cell_type": "markdown",
   "metadata": {},
   "source": [
    "---"
   ]
  },
  {
   "cell_type": "code",
   "execution_count": 20,
   "metadata": {
    "collapsed": true
   },
   "outputs": [],
   "source": [
    "factory = Factory(0.98, 0.05)"
   ]
  },
  {
   "cell_type": "code",
   "execution_count": 21,
   "metadata": {},
   "outputs": [
    {
     "data": {
      "text/plain": [
       "(2242.857142857193, 2242.857142857193, 5523.8105, 0.916)"
      ]
     },
     "execution_count": 21,
     "metadata": {},
     "output_type": "execute_result"
    }
   ],
   "source": [
    "factory.test_testing_procedure(lambda m : m.procedure_basic(500), 2000)"
   ]
  },
  {
   "cell_type": "markdown",
   "metadata": {},
   "source": [
    "Als de testing procedure bijvoorbeeld 90% van de keren klopt, is dat een heel **slecht** teken in dit geval. Alle machines goedkeuren bijvoorbeeld zou nog beter zijn, zie hieronder.\n",
    "\n",
    "\n",
    "\n",
    "**Misschien moet de verdeling van de accuracy van de machines iets minder optimistisch?**<br>\n",
    "zo beter?"
   ]
  },
  {
   "cell_type": "code",
   "execution_count": 22,
   "metadata": {},
   "outputs": [
    {
     "data": {
      "text/plain": [
       "(0.0, 0.0, 0.0, 0.5865)"
      ]
     },
     "execution_count": 22,
     "metadata": {},
     "output_type": "execute_result"
    }
   ],
   "source": [
    "factory.test_testing_procedure(Machine.procedure_trivial, 2000)"
   ]
  },
  {
   "cell_type": "markdown",
   "metadata": {},
   "source": [
    "---"
   ]
  },
  {
   "cell_type": "code",
   "execution_count": 23,
   "metadata": {},
   "outputs": [
    {
     "data": {
      "image/png": "[encoded data removed]",
      "text/plain": [
       "<matplotlib.figure.Figure at 0x160e7f2c0b8>"
      ]
     },
     "metadata": {},
     "output_type": "display_data"
    }
   ],
   "source": [
    "mu1 = 0.98\n",
    "sigma1 = 0.05\n",
    "mu2 = 0.3\n",
    "sigma2 = 0.2\n",
    "\n",
    "fig, ax = plt.subplots(1, 1)\n",
    "x = np.arange(0, 1.001, 0.001)\n",
    "ax.plot(x, double_trunc_norm.pdf(x, mu1, sigma1, mu2, sigma2, 0.5))\n",
    "ax.set_xlabel(\"machine accuracy\")\n",
    "ax.set_ylabel(\"probability density function\")\n",
    "fig.suptitle('double truncated normal pdf')\n",
    "plt.show()"
   ]
  },
  {
   "cell_type": "code",
   "execution_count": 24,
   "metadata": {
    "collapsed": true
   },
   "outputs": [],
   "source": [
    "# DOESN'T WORK\n",
    "# double_trunc_norm.ppf(0.1, mu1, sigma1, mu2, sigma2, 0.5)"
   ]
  },
  {
   "cell_type": "markdown",
   "metadata": {},
   "source": [
    "# Proper Testing"
   ]
  },
  {
   "cell_type": "code",
   "execution_count": 25,
   "metadata": {
    "collapsed": true
   },
   "outputs": [],
   "source": [
    "def basic(n):\n",
    "    f = lambda m : m.procedure_basic(n)\n",
    "    f.__name__ = f\"Basic({n})\"\n",
    "    return f"
   ]
  },
  {
   "cell_type": "code",
   "execution_count": 26,
   "metadata": {
    "collapsed": true
   },
   "outputs": [],
   "source": [
    "def advanced(min_n, max_n):\n",
    "    f = lambda m : m.procedure_advanced_95(min_n, max_n)\n",
    "    f.__name__ = f\"Advanced({min_n}, {max_n})\"\n",
    "    return f"
   ]
  },
  {
   "cell_type": "code",
   "execution_count": 27,
   "metadata": {
    "collapsed": true
   },
   "outputs": [],
   "source": [
    "def advanced_true(min_n, max_n):\n",
    "    return lambda m : m.procedure_advanced_95_true(min_n, max_n)"
   ]
  },
  {
   "cell_type": "code",
   "execution_count": 28,
   "metadata": {
    "collapsed": true
   },
   "outputs": [],
   "source": [
    "def advanced_false(min_n, max_n):\n",
    "    return lambda m : m.procedure_advanced_95_false(min_n, max_n)"
   ]
  },
  {
   "cell_type": "code",
   "execution_count": 29,
   "metadata": {
    "collapsed": true
   },
   "outputs": [],
   "source": [
    "f = Factory(0.98, 0.05)\n",
    "alt_f = AltFactory(0.98, 0.05, 0.3, 0.2, 0.98)"
   ]
  },
  {
   "cell_type": "code",
   "execution_count": 30,
   "metadata": {
    "collapsed": true
   },
   "outputs": [],
   "source": [
    "def test_basic_vs_advanced(factory):\n",
    "    ns = range(100, 400, 10)\n",
    "    procedures = list(map(basic, ns)) + list(map(lambda max_n: advanced(50, max_n), ns))\n",
    "    (name, min_cost, min_time) = factory.compare_list_testing_procedures(procedures, 2000)"
   ]
  },
  {
   "cell_type": "code",
   "execution_count": 43,
   "metadata": {
    "collapsed": true
   },
   "outputs": [],
   "source": [
    "def test_advanced_tests(factory):\n",
    "    min_ns = range(0, 100, 50)\n",
    "    max_ns = range(100, 400, 50)\n",
    "    procedures = []\n",
    "    for min_n in min_ns:\n",
    "        for max_n in max_ns:\n",
    "            procedures.append(advanced(min_n, max_n))\n",
    "    (name, min_total_costs, costs, time, accuracy) = factory.compare_list_testing_procedures(procedures, 20)\n",
    "    print(f\"Test with minimal cost is {name}, with total_costs €{min_total_costs}, costs €{costs}, time {time} and accuracy {accuracy}\")"
   ]
  },
  {
   "cell_type": "code",
   "execution_count": 47,
   "metadata": {
    "scrolled": false
   },
   "outputs": [
    {
     "name": "stdout",
     "output_type": "stream",
     "text": [
      "Advanced(0, 100)\n",
      "Advanced(0, 150)\n",
      "Advanced(0, 100) 291.79571428571387 291.79571428571387 718.05 0.8\n",
      "\n",
      "Advanced(0, 150)\n",
      "Advanced(0, 200)\n",
      "Advanced(0, 150) 318.93428571428524 318.93428571428524 785.75 0.95\n",
      "\n",
      "Advanced(0, 200)\n",
      "Advanced(0, 250)\n",
      "Advanced(0, 250) 532.6785714285701 532.6785714285701 1312.3 0.85\n",
      "\n",
      "Advanced(0, 250)\n",
      "Advanced(0, 300)\n",
      "Advanced(0, 250) 542.7714285714274 542.7714285714274 1335.3 0.8\n",
      "\n",
      "Advanced(0, 300)\n",
      "Advanced(0, 350)\n",
      "Advanced(0, 300) 577.3114285714271 577.3114285714271 1421.5 1.0\n",
      "\n",
      "Advanced(0, 350)\n",
      "Advanced(50, 100)\n",
      "Advanced(50, 100) 375.2299999999997 375.2299999999997 924.2 0.9\n",
      "\n",
      "Advanced(50, 100)\n",
      "Advanced(50, 150)\n",
      "Advanced(50, 150) 224.28571428571436 224.28571428571436 586.85 1.0\n",
      "\n",
      "Advanced(50, 150)\n",
      "Advanced(50, 200)\n",
      "Advanced(50, 150) 557.7985714285702 557.7985714285702 1372.4 0.85\n",
      "\n",
      "Advanced(50, 200)\n",
      "Advanced(50, 250)\n",
      "Advanced(50, 200) 709.6399999999983 709.6399999999983 1745.35 1.0\n",
      "\n",
      "Advanced(50, 250)\n",
      "Advanced(50, 300)\n",
      "Advanced(50, 250) 664.1099999999985 664.1099999999985 1635.05 0.95\n",
      "\n",
      "Advanced(50, 300)\n",
      "Advanced(50, 350)\n",
      "Advanced(50, 300) 737.8999999999979 737.8999999999979 1815.45 1.0\n",
      "\n",
      "Test with minimal cost is Advanced(50, 150), with total_costs €224.28571428571436, costs €224.28571428571436, time 586.85 and accuracy 1.0\n"
     ]
    }
   ],
   "source": [
    "# Weird costs and time\n",
    "test_advanced_tests(alt_f)"
   ]
  },
  {
   "cell_type": "code",
   "execution_count": 48,
   "metadata": {},
   "outputs": [
    {
     "name": "stdout",
     "output_type": "stream",
     "text": [
      "Testing procedure was accurate 86.0% of the time.\n",
      "Test procedure took on average  0.0 day(s), 21.0 hour(s) and 57.631000000000085 minute(s).\n",
      "The costs associated with this test procedure is on average €535.35\n",
      "Total costs is on average € 535.35\n"
     ]
    }
   ],
   "source": [
    "factory.print_testing_procedure(advanced(50, 150), 1000)"
   ]
  },
  {
   "cell_type": "code",
   "execution_count": 34,
   "metadata": {},
   "outputs": [
    {
     "data": {
      "text/plain": [
       "('Advanced(10, 110)', 295.89565714285726, 295.89565714285726, 727.856, 0.784)"
      ]
     },
     "execution_count": 34,
     "metadata": {},
     "output_type": "execute_result"
    }
   ],
   "source": [
    "factory.compare_testing_procedures(advanced(10, 110), basic(1000), 500)"
   ]
  },
  {
   "cell_type": "code",
   "execution_count": null,
   "metadata": {
    "collapsed": true
   },
   "outputs": [],
   "source": []
  },
  {
   "cell_type": "code",
   "execution_count": 35,
   "metadata": {},
   "outputs": [
    {
     "data": {
      "text/plain": [
       "(0.0, 6.0, 34.14999999999998)"
      ]
     },
     "execution_count": 35,
     "metadata": {},
     "output_type": "execute_result"
    }
   ],
   "source": [
    "runtime = 394.15\n",
    "days = runtime // (24 * 60)\n",
    "hours = (runtime % (24 * 60)) // 60\n",
    "minutes = (runtime % (24 * 60)) % 60\n",
    "days, hours, minutes"
   ]
  },
  {
   "cell_type": "code",
   "execution_count": null,
   "metadata": {
    "collapsed": true
   },
   "outputs": [],
   "source": []
  }
 ],
 "metadata": {
  "kernelspec": {
   "display_name": "Python 3",
   "language": "python",
   "name": "python3"
  },
  "language_info": {
   "codemirror_mode": {
    "name": "ipython",
    "version": 3
   },
   "file_extension": ".py",
   "mimetype": "text/x-python",
   "name": "python",
   "nbconvert_exporter": "python",
   "pygments_lexer": "ipython3",
   "version": "3.6.7"
  }
 },
 "nbformat": 4,
 "nbformat_minor": 2
}
