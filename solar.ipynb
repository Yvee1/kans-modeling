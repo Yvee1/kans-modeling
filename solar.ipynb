{
 "cells": [
  {
   "cell_type": "code",
   "execution_count": 1,
   "metadata": {
    "collapsed": true
   },
   "outputs": [],
   "source": [
    "import numpy as np\n",
    "from scipy.stats import truncnorm, norm, binom\n",
    "import matplotlib.pyplot as plt\n",
    "import random"
   ]
  },
  {
   "cell_type": "code",
   "execution_count": 2,
   "metadata": {
    "collapsed": true
   },
   "outputs": [],
   "source": [
    "cutoff = 0.95"
   ]
  },
  {
   "cell_type": "code",
   "execution_count": 3,
   "metadata": {
    "collapsed": true
   },
   "outputs": [],
   "source": [
    "class Wafer:\n",
    "    pass"
   ]
  },
  {
   "cell_type": "code",
   "execution_count": 4,
   "metadata": {
    "collapsed": true
   },
   "outputs": [],
   "source": [
    "class SolarCell:\n",
    "    def __init__(self, working):\n",
    "        self.working = working"
   ]
  },
  {
   "cell_type": "code",
   "execution_count": 5,
   "metadata": {},
   "outputs": [],
   "source": [
    "class Machine:\n",
    "    runtime = 0  #In Minutes\n",
    "    costs = 0\n",
    "    \n",
    "    def __init__(self, p):  #Constructor\n",
    "        self.p = p\n",
    "    \n",
    "    def deposit(self, wafer):\n",
    "        self.runtime += 9    #9 minutes per deposition per wafer\n",
    "        self.costs += 2 + 87/35  #It costs €2 to do a deposition. Wafers have a base cost of €87, but can be re-used 35 times\n",
    "        working = random.random() < self.p \n",
    "        \n",
    "        return SolarCell(working)\n",
    "    \n",
    "    def diagnosis(self, cell):\n",
    "        self.runtime += 2 if cell.working else 3  # Diagnosis costs 2 minutes if the created cell works, 3 minutes otherwise\n",
    "        return cell.working\n",
    "    \n",
    "    def test_basic(self, n):\n",
    "        wafers = n * [Wafer()] # Create list of n Wafer() objects\n",
    "        cells = list(map(self.deposit, wafers)) # Deposit all wafers\n",
    "        working_cells = list(filter(self.diagnosis, cells)) # Make list of working cells\n",
    "        return len(working_cells)/len(cells) # Determine ratio of the amount of working cells and total cells \n",
    "    \n",
    "    def get_stats(self):\n",
    "        days = self.runtime // (24 * 60)\n",
    "        hours = (self.runtime % (24 * 60)) // 60\n",
    "        minutes = (self.runtime % (24 * 60)) % 60\n",
    "        rcosts = round(self.costs, 2)\n",
    "        \n",
    "        print(\"Actual accuracy of machine:\", self.p)\n",
    "        print(\"It takes\", days, \"day(s),\", hours, \"hour(s) and\", minutes, \"minute(s) to test.\")\n",
    "        print(\"The costs associated with this test method is €\" + str(rcosts))\n",
    "        \n",
    "    def reset(self):\n",
    "        self.runtime = 0\n",
    "        self.costs = 0\n",
    "        \n",
    "    def plot_basic(self, n):\n",
    "        fig, ax = plt.subplots(1, 1)\n",
    "        x = np.arange(binom.ppf(0.001, n, self.p),\n",
    "                      binom.ppf(1, n, self.p))\n",
    "        ax.plot(x/n, binom.pmf(x, n, self.p), 'bo', ms=8, label='binom pmf')\n",
    "        ax.vlines(x/n, 0, binom.pmf(x, n, self.p), colors='b', lw=5, alpha=0.5)\n",
    "        ax.set_xlabel(\"estimated p\")\n",
    "        ax.set_ylabel(\"probability\")\n",
    "        plt.show()\n",
    "        \n",
    "    def false_negative_basic(self, n):\n",
    "        return binom.cdf(int(0.95 * n), n, self.p)\n",
    "    \n",
    "    # Testing with variable number of tests\n",
    "    def test_advanced(self, certainty, max_tests):\n",
    "        successes = 0\n",
    "        p_ = 1\n",
    "        \n",
    "        for n in range(1, max_tests):\n",
    "            if self.diagnosis(self.deposit(Wafer())):\n",
    "                successes += 1\n",
    "            p_ = successes / n\n",
    "            \n",
    "            (left, right) = self.calculate_interval(certainty, n, p_)\n",
    "            print(\"Left: \" + str(left))\n",
    "            print(\"Right: \" + str(right))\n",
    "            \n",
    "            if (left / n > cutoff and right / n > cutoff):\n",
    "                return (p_, n)\n",
    "            \n",
    "            if (left / n < cutoff and right / n < cutoff):\n",
    "                return (p_, n)\n",
    "            \n",
    "        return (p_, n)\n",
    "            \n",
    "    def calculate_interval(self, certainty, n, p_):\n",
    "        error = (1 - certainty)/2\n",
    "\n",
    "        left = binom.ppf(max(p_ - error, 0), n, self.p)\n",
    "        right = binom.ppf(min(1, p_ + error), n, self.p)\n",
    "        \n",
    "        left = max(left / n, 0)\n",
    "        right = min(right/n, 1)\n",
    "        return (left, right)"
   ]
  },
  {
   "cell_type": "code",
   "execution_count": 6,
   "metadata": {
    "collapsed": true
   },
   "outputs": [],
   "source": [
    "def makeMachine(mu, sigma):\n",
    "    p = truncnorm(-mu / sigma, (1 - mu) / sigma, loc=mu, scale=sigma).rvs(1)[0]\n",
    "    return Machine(p)"
   ]
  },
  {
   "cell_type": "code",
   "execution_count": 7,
   "metadata": {
    "collapsed": true
   },
   "outputs": [],
   "source": [
    "b = makeMachine(0.98, 0.02)"
   ]
  },
  {
   "cell_type": "code",
   "execution_count": 8,
   "metadata": {},
   "outputs": [
    {
     "name": "stdout",
     "output_type": "stream",
     "text": [
      "Projected accuracy of machine: 1.0\n",
      "Actual accuracy of machine: 0.9449742906620231\n",
      "It takes 0 day(s), 1 hour(s) and 50 minute(s) to test.\n",
      "The costs associated with this test method is €44.86\n"
     ]
    }
   ],
   "source": [
    "p_ = b.test_basic(10)\n",
    "print(\"Projected accuracy of machine:\", p_)\n",
    "b.get_stats()\n",
    "b.reset()"
   ]
  },
  {
   "cell_type": "markdown",
   "metadata": {},
   "source": [
    "Truncated normal distribution vs normal distribution [from here](https://stackoverflow.com/questions/18441779/how-to-specify-upper-and-lower-limits-when-using-numpy-random-normal)"
   ]
  },
  {
   "cell_type": "code",
   "execution_count": 9,
   "metadata": {
    "collapsed": true
   },
   "outputs": [],
   "source": [
    "lower, upper = 0, 1\n",
    "mu, sigma = 0.99, 0.03\n",
    "X = truncnorm((lower - mu) / sigma, (upper - mu) / sigma, loc=mu, scale=sigma)"
   ]
  },
  {
   "cell_type": "code",
   "execution_count": 10,
   "metadata": {},
   "outputs": [
    {
     "data": {
      "image/png": "[encoded data removed]",
      "text/plain": [
       "<matplotlib.figure.Figure at 0x17c85ba9470>"
      ]
     },
     "metadata": {},
     "output_type": "display_data"
    }
   ],
   "source": [
    "N = norm(loc=mu, scale=sigma)\n",
    "\n",
    "fig, ax = plt.subplots(2, sharex=True)\n",
    "ax[0].hist(X.rvs(10000), normed=True)\n",
    "ax[1].hist(N.rvs(10000), normed=True)\n",
    "plt.show()"
   ]
  },
  {
   "cell_type": "code",
   "execution_count": 11,
   "metadata": {
    "collapsed": true
   },
   "outputs": [],
   "source": [
    "m = Machine(0.94)"
   ]
  },
  {
   "cell_type": "code",
   "execution_count": 12,
   "metadata": {},
   "outputs": [
    {
     "name": "stdout",
     "output_type": "stream",
     "text": [
      "Estimated probability: 0.92\n",
      "Actual accuracy of machine: 0.94\n",
      "It takes 0 day(s), 18 hour(s) and 28 minute(s) to test.\n",
      "The costs associated with this test method is €448.57\n"
     ]
    }
   ],
   "source": [
    "p_ = m.test_basic(100)\n",
    "print(\"Estimated probability: \" + str(p_))\n",
    "m.get_stats()\n",
    "m.reset()"
   ]
  },
  {
   "cell_type": "code",
   "execution_count": 13,
   "metadata": {},
   "outputs": [
    {
     "data": {
      "image/png": "[encoded data removed]",
      "text/plain": [
       "<matplotlib.figure.Figure at 0x17c85c076a0>"
      ]
     },
     "metadata": {},
     "output_type": "display_data"
    }
   ],
   "source": [
    "m.plot_basic(100)"
   ]
  },
  {
   "cell_type": "code",
   "execution_count": 14,
   "metadata": {
    "collapsed": true
   },
   "outputs": [],
   "source": [
    "def neighbourhood(machine, epsilon, p, n):\n",
    "    return binom.cdf(p + epsilon, n, machine.p) - binom.cdf(p - epsilon, n, machine.p)"
   ]
  },
  {
   "cell_type": "code",
   "execution_count": 15,
   "metadata": {},
   "outputs": [
    {
     "data": {
      "text/plain": [
       "0.12785199135923309"
      ]
     },
     "execution_count": 15,
     "metadata": {},
     "output_type": "execute_result"
    }
   ],
   "source": [
    "neighbourhood(m, 1, 97, 100)"
   ]
  },
  {
   "cell_type": "markdown",
   "metadata": {},
   "source": [
    "Interval rond p_, met 97.5%?? kans dat die er in ligt. Hoe groter aantal tests n, hoe kleiner interval. Als het gehele interval boven 95% ligt, stop met testen, en het is een goede machine (met 97.5% zekerheid). Als het gehele interval onder 95% ligt, dan is het een slechte machine (met 97.5% zekerheid)."
   ]
  },
  {
   "cell_type": "code",
   "execution_count": 16,
   "metadata": {},
   "outputs": [],
   "source": [
    "m = Machine(0.9)"
   ]
  },
  {
   "cell_type": "code",
   "execution_count": 17,
   "metadata": {},
   "outputs": [
    {
     "name": "stdout",
     "output_type": "stream",
     "text": [
      "Left: 1.0\n",
      "Right: 1.0\n"
     ]
    },
    {
     "data": {
      "text/plain": [
       "(1.0, 1)"
      ]
     },
     "execution_count": 17,
     "metadata": {},
     "output_type": "execute_result"
    }
   ],
   "source": [
    "m.test_advanced(0.9, 1000)"
   ]
  },
  {
   "cell_type": "code",
   "execution_count": null,
   "metadata": {
    "collapsed": true
   },
   "outputs": [],
   "source": []
  },
  {
   "cell_type": "code",
   "execution_count": 18,
   "metadata": {},
   "outputs": [
    {
     "data": {
      "text/plain": [
       "(0.92, 0.928)"
      ]
     },
     "execution_count": 18,
     "metadata": {},
     "output_type": "execute_result"
    }
   ],
   "source": [
    "m.calculate_interval(0.95, 500, 0.96)"
   ]
  },
  {
   "cell_type": "code",
   "execution_count": 19,
   "metadata": {
    "collapsed": true
   },
   "outputs": [],
   "source": [
    "p_ = 0.97"
   ]
  },
  {
   "cell_type": "code",
   "execution_count": 20,
   "metadata": {},
   "outputs": [
    {
     "data": {
      "text/plain": [
       "100.0"
      ]
     },
     "execution_count": 20,
     "metadata": {},
     "output_type": "execute_result"
    }
   ],
   "source": [
    "binom.ppf(p_ + 0.01, 100, 0.97)"
   ]
  },
  {
   "cell_type": "code",
   "execution_count": 21,
   "metadata": {},
   "outputs": [
    {
     "data": {
      "text/plain": [
       "10.0"
      ]
     },
     "execution_count": 21,
     "metadata": {},
     "output_type": "execute_result"
    }
   ],
   "source": [
    "binom.ppf(1, 10, 0.5)"
   ]
  },
  {
   "cell_type": "code",
   "execution_count": 22,
   "metadata": {},
   "outputs": [
    {
     "data": {
      "image/png": "[encoded data removed]",
      "text/plain": [
       "<matplotlib.figure.Figure at 0x17c86076cc0>"
      ]
     },
     "metadata": {},
     "output_type": "display_data"
    }
   ],
   "source": [
    "m.plot_basic(100)"
   ]
  },
  {
   "cell_type": "code",
   "execution_count": null,
   "metadata": {
    "collapsed": true
   },
   "outputs": [],
   "source": []
  }
 ],
 "metadata": {
  "kernelspec": {
   "display_name": "Python 3",
   "language": "python",
   "name": "python3"
  },
  "language_info": {
   "codemirror_mode": {
    "name": "ipython",
    "version": 3
   },
   "file_extension": ".py",
   "mimetype": "text/x-python",
   "name": "python",
   "nbconvert_exporter": "python",
   "pygments_lexer": "ipython3",
   "version": "3.6.7"
  }
 },
 "nbformat": 4,
 "nbformat_minor": 2
}
